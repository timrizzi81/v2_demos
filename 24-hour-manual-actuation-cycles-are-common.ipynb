{
 "cells": [
  {
   "cell_type": "code",
   "execution_count": 3,
   "metadata": {
    "_datascience": {},
    "collapsed": false
   },
   "outputs": [],
   "source": [
    "#Imports\n",
    "import numpy as np\n",
    "import scipy as sp\n",
    "import pandas as pd\n",
    "import psycopg2\n",
    "import math\n",
    "from numpy import array, empty\n",
    "import warnings\n",
    "import datetime\n",
    "import lifetimes\n",
    "import lifelines\n",
    "from lifelines import KaplanMeierFitter, CoxPHFitter\n",
    "from sklearn.cross_validation import train_test_split\n",
    "import copy\n",
    "from lifelines.utils import concordance_index\n",
    "from matplotlib import pyplot as plt\n",
    "from statsmodels.tools.tools import add_constant\n",
    "from statsmodels.regression.linear_model import OLS\n",
    "from mpl_toolkits.axes_grid1 import make_axes_locatable\n",
    "from matplotlib import cm\n",
    "%matplotlib inline\n",
    "warnings.filterwarnings('ignore')\n",
    "import pyrothko as rk\n",
    "\n",
    "def shuffle(df, n=1, axis=0):     \n",
    "    df = df.copy()\n",
    "    for _ in range(n):\n",
    "        df.apply(np.random.shuffle, axis=axis)\n",
    "    return df\n",
    "\n",
    "def myround(x, prec=2, base=.05):\n",
    "  return round(base * round(float(x)/base),prec)\n",
    "\n",
    "def flatten(l):\n",
    "    return [item for sublist in l for item in sublist]\n",
    "\n",
    "\n",
    "strToDateTime = lambda x: pd.tslib.Timestamp(x).to_datetime()\n",
    "\n",
    "# cell 2: connection\n",
    "conn = psycopg2.connect(\n",
    "   database='belkin',\n",
    "   port=os.environ['REDSHIFT_PORT'],\n",
    "   password=os.environ['REDSHIFT_PASS'],\n",
    "   user=os.environ['REDSHIFT_USER'],\n",
    "   host=os.environ['REDSHIFT_HOST']\n",
    "  ) "
   ]
  },
  {
   "cell_type": "code",
   "execution_count": 4,
   "metadata": {
    "_datascience": {},
    "collapsed": false,
    "scrolled": false
   },
   "outputs": [],
   "source": [
    "query = \"\"\"\n",
    "SELECT location,\n",
    "       modelcode,\n",
    "       device,\n",
    "       actuation_f.macaddress AS mac,\n",
    "       DATE (datets) AS DATE,\n",
    "       DATE_PART('hour',datets) AS hour,\n",
    "       COUNT(1) AS acts\n",
    "FROM actuation_f\n",
    "  INNER JOIN ((SELECT d1.macaddress AS mac,\n",
    "                     w.modelcode,\n",
    "                     location,\n",
    "                     device,\n",
    "                     MAX(DATE) AS last_usage_date,\n",
    "                     COUNT(1)\n",
    "              FROM (SELECT macaddress,\n",
    "                           DATE (datets) AS DATE,\n",
    "                           DATE_PART('hour',datets) AS HOUR,\n",
    "                           COUNT(1) AS acts\n",
    "                    FROM actuation_f\n",
    "                    WHERE LOWER (actuatedby) LIKE '%manual%'\n",
    "                    GROUP BY macaddress,\n",
    "                             DATE (datets),\n",
    "                             DATE_PART('hour',datets)) AS d1\n",
    "                LEFT JOIN wemo_d AS w ON w.macaddress = d1.macaddress\n",
    "                LEFT JOIN ds_custom_name_annotations AS ds ON ds.wemoid = w.pluginid\n",
    "              WHERE w.modelcode = 'Socket'\n",
    "              GROUP BY d1.macaddress,\n",
    "                       w.modelcode,\n",
    "                       location,\n",
    "                       device \n",
    "              LIMIT 10000)\n",
    "              UNION\n",
    "              (SELECT d1.macaddress AS mac,\n",
    "                     w.modelcode,\n",
    "                     location,\n",
    "                     device,\n",
    "                     MAX(DATE) AS last_usage_date,\n",
    "                     COUNT(1)\n",
    "              FROM (SELECT macaddress,\n",
    "                           DATE (datets) AS DATE,\n",
    "                           DATE_PART('hour',datets) AS HOUR,\n",
    "                           COUNT(1) AS acts\n",
    "                    FROM actuation_f\n",
    "                    WHERE LOWER (actuatedby) LIKE '%manual%'\n",
    "                    GROUP BY macaddress,\n",
    "                             DATE (datets),\n",
    "                             DATE_PART('hour',datets)) AS d1\n",
    "                LEFT JOIN wemo_d AS w ON w.macaddress = d1.macaddress\n",
    "                LEFT JOIN ds_custom_name_annotations AS ds ON ds.wemoid = w.pluginid\n",
    "              WHERE w.modelcode = 'Lightswitch'\n",
    "              GROUP BY d1.macaddress,\n",
    "                       w.modelcode,\n",
    "                       location,\n",
    "                       device LIMIT 10000)\n",
    "              UNION\n",
    "              (SELECT d1.macaddress AS mac,\n",
    "                     w.modelcode,\n",
    "                     location,\n",
    "                     device,\n",
    "                     MAX(DATE) AS last_usage_date,\n",
    "                     COUNT(1)\n",
    "              FROM (SELECT macaddress,\n",
    "                           DATE (datets) AS DATE,\n",
    "                           DATE_PART('hour',datets) AS HOUR,\n",
    "                           COUNT(1) AS acts\n",
    "                    FROM actuation_f\n",
    "                    WHERE LOWER (actuatedby) LIKE '%manual%'\n",
    "                    GROUP BY macaddress,\n",
    "                             DATE (datets),\n",
    "                             DATE_PART('hour',datets)) AS d1\n",
    "                LEFT JOIN wemo_d AS w ON w.macaddress = d1.macaddress\n",
    "                LEFT JOIN ds_custom_name_annotations AS ds ON ds.wemoid = w.pluginid\n",
    "              WHERE w.modelcode = 'Insight'\n",
    "              GROUP BY d1.macaddress,\n",
    "                       w.modelcode,\n",
    "                       location,\n",
    "                       device LIMIT 10000)) AS freq_macs ON freq_macs.mac = actuation_f.macaddress\n",
    "WHERE lower (actuatedby) LIKE '%manual%'\n",
    "AND   datediff (days,DATE (datets),DATE ('2016-08-27')) < 14\n",
    "GROUP BY location,\n",
    "         modelcode,\n",
    "         device,\n",
    "         actuation_f.macaddress,\n",
    "         DATE (datets),\n",
    "         DATE_PART('hour',datets)\n",
    "\n",
    "\n",
    "\n",
    "\n",
    "\n",
    "     \n",
    "        \n",
    "\"\"\"        \n",
    "df = pd.read_sql(query, conn)\n",
    "df = df.sort(['mac','date','hour'], ascending = True)\n",
    "df['ts'] = df.apply(lambda x: datetime.datetime(x['date'].year, x['date'].month, x['date'].day,int(x['hour'])),axis=1)"
   ]
  },
  {
   "cell_type": "code",
   "execution_count": 5,
   "metadata": {
    "_datascience": {},
    "collapsed": true
   },
   "outputs": [],
   "source": [
    "q='''\n",
    "select \n",
    "macaddress, max(case when actuatedby like '%TimeRule%' then 1 else 0 end) as used_timerule\n",
    "\n",
    "from actuation_f\n",
    "group by macaddress\n",
    "\n",
    "'''\n",
    "used_timerule = pd.read_sql(q, conn)"
   ]
  },
  {
   "cell_type": "code",
   "execution_count": 6,
   "metadata": {
    "_datascience": {},
    "collapsed": false
   },
   "outputs": [],
   "source": [
    "def explodeDataFrameHours(df, ordering_col, id_col, event_col , fill_missing_with=0):\n",
    "    extrema = df.groupby(id_col)[ordering_col].agg({'first':np.min, 'last':np.max})[['first','last']]\n",
    "    ints = map(lambda x: pd.date_range(start=x[0],end=x[1], freq='h'), extrema.values)\n",
    "    zipped_ints = [[(pair[0], date_value) for date_value in pair[1].values] for pair in zip(extrema.index.values, ints)]\n",
    "    index = pd.DataFrame(flatten(zipped_ints), columns = [id_col, ordering_col])\n",
    "    result = index.set_index([id_col, ordering_col])\n",
    "    to_join = df.groupby([id_col, ordering_col])[event_col].sum()\n",
    "    result[event_col] = to_join\n",
    "    result[event_col] = result[event_col].fillna(fill_missing_with)\n",
    "    return result\n",
    "\n",
    "def explodeDataFrameDate(df, ordering_col, id_col, event_col , fill_missing_with=0):\n",
    "    extrema = df.groupby(id_col)[ordering_col].agg({'first':np.min, 'last':np.max})[['first','last']]\n",
    "    ints = map(lambda x: pd.date_range(start=x[0],end=x[1], freq='D'), extrema.values)\n",
    "    zipped_ints = [[(pair[0], date_value) for date_value in pair[1].values] for pair in zip(extrema.index.values, ints)]\n",
    "    index = pd.DataFrame(flatten(zipped_ints), columns = [id_col, ordering_col])\n",
    "    result = index.set_index([id_col, ordering_col])\n",
    "    to_join = pd.DataFrame(df.groupby([id_col, ordering_col])[event_col].sum()).reset_index()\n",
    "    to_join[ordering_col] = pd.to_datetime(to_join[ordering_col])\n",
    "    to_join.set_index([id_col, ordering_col], inplace = True)\n",
    "    result[event_col] = to_join\n",
    "    result[event_col] = result[event_col].fillna(fill_missing_with)\n",
    "    return result\n",
    "\n",
    "def cond_count(x):\n",
    "    if x['first_actuation']== True:\n",
    "        cond_count.last_count =0\n",
    "    else:\n",
    "        inactive = x['inactive']\n",
    "        if inactive == 0:\n",
    "            cond_count.last_count = 0\n",
    "        else:\n",
    "            cond_count.last_count += 1\n",
    "    return cond_count.last_count\n",
    "cond_count.last_count = 0"
   ]
  },
  {
   "cell_type": "code",
   "execution_count": 7,
   "metadata": {
    "_datascience": {},
    "collapsed": false
   },
   "outputs": [],
   "source": [
    "id_col = 'mac'\n",
    "ordering_col = 'ts'\n",
    "event_col = 'acts'\n",
    "z = explodeDataFrameHours(df, ordering_col, id_col, event_col).reset_index()"
   ]
  },
  {
   "cell_type": "code",
   "execution_count": 8,
   "metadata": {
    "_datascience": {},
    "collapsed": true
   },
   "outputs": [],
   "source": [
    "z['hour'] = z.ts.apply(lambda x: x.hour)\n",
    "z['hour_number'] = z.groupby('mac').cumcount()"
   ]
  },
  {
   "cell_type": "code",
   "execution_count": 9,
   "metadata": {
    "_datascience": {},
    "collapsed": true
   },
   "outputs": [],
   "source": [
    "z['last_actuation'] = z.mac != z.mac.shift(-1)\n",
    "z['first_actuation'] = z.mac != z.mac.shift(1)"
   ]
  },
  {
   "cell_type": "code",
   "execution_count": 10,
   "metadata": {
    "_datascience": {},
    "collapsed": true
   },
   "outputs": [],
   "source": [
    "z['inactive'] = (z.acts==0).map({True:1, False:0})\n",
    "z['was_inactive'] = z['inactive'].shift()"
   ]
  },
  {
   "cell_type": "code",
   "execution_count": 11,
   "metadata": {
    "_datascience": {},
    "collapsed": true
   },
   "outputs": [],
   "source": [
    "z['was_inactive'][z.first_actuation==True] = np.nan\n",
    "z['periods_ianctive'] = z.apply(lambda x: cond_count(x), axis = 1)"
   ]
  },
  {
   "cell_type": "code",
   "execution_count": 13,
   "metadata": {
    "_datascience": {},
    "collapsed": true
   },
   "outputs": [],
   "source": [
    "z['hour_number'] = z.groupby('mac').cumcount()\n",
    "z['period_shift'] = z.inactive != z.was_inactive"
   ]
  },
  {
   "cell_type": "code",
   "execution_count": 14,
   "metadata": {
    "_datascience": {},
    "collapsed": false
   },
   "outputs": [],
   "source": [
    "z['period_shift'] = z.groupby('mac')['period_shift'].cumsum()"
   ]
  },
  {
   "cell_type": "code",
   "execution_count": 15,
   "metadata": {
    "_datascience": {},
    "collapsed": false
   },
   "outputs": [],
   "source": [
    "#empty cell"
   ]
  },
  {
   "cell_type": "code",
   "execution_count": 16,
   "metadata": {
    "_datascience": {},
    "collapsed": false
   },
   "outputs": [],
   "source": [
    "from statsmodels.tsa import stattools\n",
    "\n",
    "mac_addresses = list(set(z.mac))\n",
    "acfs = {}\n",
    "sigs = {}\n",
    "\n",
    "lag_hours = 24 * 7\n",
    "\n",
    "\n",
    "for mac in mac_addresses:\n",
    "    counts = z[z.mac==mac].acts\n",
    "    if len(counts)>lag_hours:\n",
    "        acfs[mac], sig = stattools.acf(counts, nlags=lag_hours, alpha = .05)\n",
    "        sig_level = np.apply_along_axis(lambda x: np.equal(*np.sign(x)) and x[1] > 0, 1, sig)\n",
    "        sigs[mac] = sig_level\n",
    "    else:\n",
    "        acfs[mac] = np.nan\n",
    "        sigs[mac] = np.nan\n",
    "acfs = pd.DataFrame(acfs)\n",
    "acfs = acfs.T\n",
    "sigs = pd.DataFrame(sigs).T"
   ]
  },
  {
   "cell_type": "code",
   "execution_count": 17,
   "metadata": {
    "_datascience": {},
    "collapsed": false
   },
   "outputs": [],
   "source": [
    "#bookmark"
   ]
  },
  {
   "cell_type": "code",
   "execution_count": 18,
   "metadata": {
    "_datascience": {},
    "collapsed": false
   },
   "outputs": [],
   "source": [
    "def format_chart(ax,loc=None, horizontal=False):\n",
    "    \"\"\"A function to format matplotlib charts top look more rothko-esque\n",
    "    Can take in a single axis or a list of axes and format each chart. Build your chart\n",
    "    and then run format_chart() right before plt.show().\n",
    "    \n",
    "    Some notes:\n",
    "    You can pass it a single axis object or a list/tuple/array of axis objects and the \n",
    "    function will format them all the same way according to your specifications\n",
    "    \n",
    "    If you use plt to manipulate your charts, you have to pass an axis object. Do so\n",
    "    by passing the function plt.gca().\n",
    "    \n",
    "    loc handles the legend. Default is to always include a legend. You can either specify\n",
    "    a legend location with an integer 0-8 or no legend with loc=False.\n",
    "    \n",
    "    horizontal = True is for horizontally oriented charts\"\"\"\n",
    "    \n",
    "    def formater(ax,horizontal = horizontal, loc=None):\n",
    "        \n",
    "        if horizontal:\n",
    "            #determine the visible spines/ticks and where grids should be\n",
    "            visible_spines = ['top','bottom','right']\n",
    "            grid_orientation = ax.xaxis\n",
    "        else:\n",
    "            visible_spines = ['top','left','right']\n",
    "            grid_orientation = ax.yaxis\n",
    "\n",
    "        #remove spines\n",
    "        for spine in visible_spines:\n",
    "            ax.spines[spine].set_visible(False)\n",
    "\n",
    "        #remove excess ticks\n",
    "        ax.xaxis.set_tick_params(which='both',top= False if 'top' in visible_spines else True\n",
    "                                 , bottom = False if 'bottom' in visible_spines else True)\n",
    "        ax.yaxis.set_tick_params(which='both',left= False if 'left' in visible_spines else True\n",
    "                                 , right = False if 'right' in visible_spines else True)\n",
    "        #grids\n",
    "        ax.grid(False)\n",
    "        grid_orientation.grid(True)\n",
    "                \n",
    "        #white background\n",
    "        ax.set_axis_bgcolor('w')\n",
    "\n",
    "        #change legend frame\n",
    "        if loc != None:\n",
    "            _loc = loc\n",
    "        else:\n",
    "            _loc = 0\n",
    "        \n",
    "        if loc != False:\n",
    "            ax.legend(frameon=False,loc = _loc)    \n",
    "\n",
    "        return ax\n",
    "\n",
    "    \n",
    "    #if list of axes, iterate through the list\n",
    "    if type(ax) == list:\n",
    "        new_ax = [formater(x,horizontal,loc) for x in ax]\n",
    "    else:        \n",
    "        new_ax = formater(ax,horizontal,loc)\n",
    "\n",
    "    return new_ax"
   ]
  },
  {
   "cell_type": "markdown",
   "metadata": {
    "_datascience": {
     "keep": true,
     "summary": true
    }
   },
   "source": [
    "This post seeks to answer the following question:\n",
    ">Can we identify users who are likely candidates for time rules?\n",
    "\n",
    "This post examines the population of users who do not use WeMo's scheduling features, yet use their device manually on a schedule. We introduce our methodology for identifying those users, and explore the types of devices they use with their WeMo products based on custom names.\n",
    "\n",
    "\n",
    "### Key Findings\n",
    "* Approximately 10-15% of users manually actuate their Switches, Insights, or Lightswitches consistently on a daily cycle.\n",
    "* Of those users, only 40-45% have ever used time rules to actuate their devices.\n",
    "* Devices in bedrooms are the most likely to be manually actuated on 24-hour cycles.\n",
    "* Of devices plugged in to Switches, coffee makers are the most likely to be manually actuated on 24-hour cycles."
   ]
  },
  {
   "cell_type": "markdown",
   "metadata": {
    "_datascience": {
     "keep": true
    }
   },
   "source": [
    "### Limitations\n",
    "In this post, we do not consider a user's full actuation history; rather we take the last 2 weeks of their actuation data such that our findings reflect users' most recent habits. Manual actuations are examined based on hourly counts."
   ]
  },
  {
   "cell_type": "markdown",
   "metadata": {
    "_datascience": {
     "keep": true
    }
   },
   "source": [
    "### Identifying Common Actuation Schedules\n",
    "\n",
    "To determine whether actuation patterns are cyclical, we conduct statistical hypothesis tests to evaluate whether a user's actuations are significantly correlated with previous actuations for a given interval.\n",
    "\n",
    "For instance, if a user's actuation frequency at 12:00 PM is significantly correlated with their behavior at 5:00 AM, we conclude that the user actuates their device on a 6 hour cycle. If a device is used on both a 6 hour and 12 hour cycle, we simplify by stating the user is on a 6 hour cycle, as the 12 hour cycle is encompassed by the 6 hour cycle.\n",
    "\n",
    "Below, we plot the strength of correlation in behavior at different time intervals."
   ]
  },
  {
   "cell_type": "markdown",
   "metadata": {
    "_datascience": {
     "keep": false
    }
   },
   "source": [
    "The plot below illustrates the average autocorrelation between a user's actuations at a given time and their actuations t hours ago:"
   ]
  },
  {
   "cell_type": "code",
   "execution_count": 19,
   "metadata": {
    "_datascience": {
     "keep": true
    },
    "collapsed": false
   },
   "outputs": [
    {
     "data": {
      "image/png": "[encoded data removed]",
      "text/plain": [
       "<matplotlib.figure.Figure at 0x7fa21fdb2910>"
      ]
     },
     "metadata": {},
     "output_type": "display_data"
    }
   ],
   "source": [
    "plt.rcParams['figure.figsize'] = (16, 7)\n",
    "ax = acfs.mean().iloc[6:].plot()\n",
    "ax.set_xticks([i*24 for i in range(1, 8)])\n",
    "ax.set_xlabel(\"Time Since Previous Actuation\")\n",
    "ax.set_ylabel(\"Strength of Autocorrelation\")\n",
    "ax.set_title(\"Most Prevalent Pattern is Daily Actuation\")\n",
    "ax.axhline(0, linestyle = \":\")\n",
    "format_chart(plt.gca())\n",
    "ax.legend_.remove()\n",
    "plt.show()\n"
   ]
  },
  {
   "cell_type": "markdown",
   "metadata": {
    "_datascience": {
     "keep": true
    }
   },
   "source": [
    "We find that there are strong daily cycles of actuation patterns. While there are longer cycles, some cases of having 48 or 72 cycles may simply be artifacts of having a 24 hour cycle. Therefore, for each user with compute the strongest single cyclic pattern. For instance, if a user's 24 hour autocorrelation is .1 and their 48 hour autocorrelation function is .08, then we would determine that the strongest cycle for that user is 24 hours. We plot the frequency of strongest cycles below."
   ]
  },
  {
   "cell_type": "code",
   "execution_count": 20,
   "metadata": {
    "_datascience": {
     "keep": true
    },
    "collapsed": false
   },
   "outputs": [
    {
     "data": {
      "image/png": "[encoded data removed]",
      "text/plain": [
       "<matplotlib.figure.Figure at 0x7fa21d0b09d0>"
      ]
     },
     "metadata": {},
     "output_type": "display_data"
    }
   ],
   "source": [
    "plot_data = acfs[range(1, lag_hours)].T.idxmax().value_counts().loc[range(6, lag_hours)]\n",
    "plot_data\n",
    "plot_data = plot_data / sigs.shape[0]\n",
    "ax = plot_data.plot()\n",
    "ax.set_xticks([i*24 for i in range(1, 8)])\n",
    "ax.set_xlabel(\"Strongest Cycle (Time Since Previous Actuation)\")\n",
    "ax.set_ylabel(\"Frequency\")\n",
    "ax.set_title(\"Most Prevalent Pattern is Daily Actuation\")\n",
    "ax.axhline(0, linestyle = \":\")\n",
    "format_chart(plt.gca())\n",
    "ax.legend_.remove()\n",
    "plt.show()"
   ]
  },
  {
   "cell_type": "markdown",
   "metadata": {
    "_datascience": {
     "keep": true
    }
   },
   "source": [
    "Our final step is to determine whether each user's strongest cycle is statistically significant (i.e. whether the results are significant enough to not be attributed to random chance). The plot below illustrates the frequency of statistically significant strongest cycles."
   ]
  },
  {
   "cell_type": "code",
   "execution_count": 21,
   "metadata": {
    "_datascience": {},
    "collapsed": false
   },
   "outputs": [],
   "source": [
    "\n",
    "\n",
    "def conditional_idxmax(row):\n",
    "    if pd.isnull(max(row))==True:\n",
    "        return 'No Sig Cycle'\n",
    "    elif max(row) == False:\n",
    "        return 'No Sig Cycle'\n",
    "    else:\n",
    "        return np.argmax(row)"
   ]
  },
  {
   "cell_type": "code",
   "execution_count": 22,
   "metadata": {
    "_datascience": {
     "keep": true
    },
    "collapsed": false
   },
   "outputs": [
    {
     "data": {
      "image/png": "[encoded data removed]",
      "text/plain": [
       "<matplotlib.figure.Figure at 0x7fa21d6eda50>"
      ]
     },
     "metadata": {},
     "output_type": "display_data"
    }
   ],
   "source": [
    "plot_data = sigs[range(1, lag_hours)].apply(lambda x: conditional_idxmax(x),axis=1).value_counts().sort_index().iloc[5:-1]\n",
    "plot_data = plot_data / sigs.shape[0]\n",
    "ax = plot_data.plot()\n",
    "ax.set_xticks([i*24 for i in range(1, 8)])\n",
    "format_chart(plt.gca())\n",
    "ax.legend_.remove()\n",
    "plt.show()"
   ]
  },
  {
   "cell_type": "markdown",
   "metadata": {
    "_datascience": {
     "keep": true
    }
   },
   "source": [
    "Most of the observed multi-day patterns are either insignificant or are artifacts of daily use, though there are a small number of users that exhibit 2-3 day cycles of usage. Overall, 24-hour cycles are the most common, with 10-15% of users actuating on this schedule."
   ]
  },
  {
   "cell_type": "code",
   "execution_count": 23,
   "metadata": {
    "_datascience": {},
    "collapsed": false
   },
   "outputs": [],
   "source": [
    "cycle_data = sigs[range(1, lag_hours)].apply(lambda x: conditional_idxmax(x),axis=1)\n",
    "mac_addresses_of_daily_users = cycle_data[cycle_data==24].index.values"
   ]
  },
  {
   "cell_type": "markdown",
   "metadata": {
    "_datascience": {
     "keep": true
    }
   },
   "source": [
    "### Users with Daily Cycles\n",
    "\n",
    "Prevalence of daily manual actuation cycles varies between device types and locations. Bedrooms have the highest percentage of devices that follow 24-hour manual cycles. This is especially pronounced for Insights, as 19% of bedroom insights are actuated on 24-hour cycles. By contrast, outdoor Insights and Switches are the least-often actuated on 24-hour manual cycles, at 6% and 10%, respectively. Interestingly, this does not apply to outdoor Lightswitches; 17% of these devices are actuated on manual 24-hour cycles."
   ]
  },
  {
   "cell_type": "code",
   "execution_count": 24,
   "metadata": {
    "_datascience": {},
    "collapsed": false
   },
   "outputs": [],
   "source": [
    "append_data = df.groupby(['mac','modelcode','location'])['date'].count().reset_index().drop('date',1).set_index('mac')\n",
    "append_data['cycle'] = cycle_data\n",
    "append_data['has_24_hour_cycle'] = append_data.cycle.apply(lambda x: x in (23,24,25))\n"
   ]
  },
  {
   "cell_type": "code",
   "execution_count": 25,
   "metadata": {
    "_datascience": {},
    "collapsed": false
   },
   "outputs": [],
   "source": [
    "def name_cleaner(name):\n",
    "    clean_dict = {'living-room':'Living Room',\n",
    "                  'other-space':'Other Location',\n",
    "                  'office':'Office',\n",
    "                  '':'Unknown Location',\n",
    "                  'outdoor':'Outdoor',\n",
    "                  'bedroom':'Bedroom',\n",
    "                  'kitchen':'Kitchen',\n",
    "                  'socket':'Switch'}\n",
    "                  \n",
    "    if name in clean_dict.keys():\n",
    "                  return clean_dict[name]\n",
    "    else: return name\n",
    "    "
   ]
  },
  {
   "cell_type": "code",
   "execution_count": 26,
   "metadata": {
    "_datascience": {},
    "collapsed": true
   },
   "outputs": [],
   "source": [
    "plot_data = append_data.groupby(['modelcode','location'])['has_24_hour_cycle'].mean().unstack().drop('other-language',1)\n",
    "order = plot_data.mean().sort_values().index.values\n",
    "plot_data = plot_data[order]"
   ]
  },
  {
   "cell_type": "code",
   "execution_count": 27,
   "metadata": {
    "_datascience": {},
    "collapsed": false
   },
   "outputs": [],
   "source": [
    "jmdf_2 = plot_data.T * 100\n",
    "jmdf = jmdf_2.copy()\n",
    "jmdf.index = jmdf.index.map(name_cleaner)"
   ]
  },
  {
   "cell_type": "code",
   "execution_count": 28,
   "metadata": {
    "_datascience": {},
    "collapsed": false
   },
   "outputs": [
    {
     "data": {
      "text/html": [
       "<div>\n",
       "<table border=\"1\" class=\"dataframe\">\n",
       "  <thead>\n",
       "    <tr style=\"text-align: right;\">\n",
       "      <th>modelcode</th>\n",
       "      <th>Insight</th>\n",
       "      <th>Lightswitch</th>\n",
       "      <th>Socket</th>\n",
       "    </tr>\n",
       "  </thead>\n",
       "  <tbody>\n",
       "    <tr>\n",
       "      <th>Office</th>\n",
       "      <td>6.542056</td>\n",
       "      <td>15.706806</td>\n",
       "      <td>10.169492</td>\n",
       "    </tr>\n",
       "    <tr>\n",
       "      <th>Outdoor</th>\n",
       "      <td>6.153846</td>\n",
       "      <td>17.289459</td>\n",
       "      <td>9.629630</td>\n",
       "    </tr>\n",
       "    <tr>\n",
       "      <th>Unknown Location</th>\n",
       "      <td>12.112542</td>\n",
       "      <td>16.539440</td>\n",
       "      <td>12.624357</td>\n",
       "    </tr>\n",
       "    <tr>\n",
       "      <th>Other Location</th>\n",
       "      <td>12.275449</td>\n",
       "      <td>14.027630</td>\n",
       "      <td>15.025907</td>\n",
       "    </tr>\n",
       "    <tr>\n",
       "      <th>Kitchen</th>\n",
       "      <td>10.243902</td>\n",
       "      <td>16.306954</td>\n",
       "      <td>16.666667</td>\n",
       "    </tr>\n",
       "    <tr>\n",
       "      <th>Living Room</th>\n",
       "      <td>13.712544</td>\n",
       "      <td>14.117647</td>\n",
       "      <td>17.427386</td>\n",
       "    </tr>\n",
       "    <tr>\n",
       "      <th>Bedroom</th>\n",
       "      <td>19.085487</td>\n",
       "      <td>18.319838</td>\n",
       "      <td>18.386492</td>\n",
       "    </tr>\n",
       "  </tbody>\n",
       "</table>\n",
       "</div>"
      ],
      "text/plain": [
       "modelcode           Insight  Lightswitch     Socket\n",
       "Office             6.542056    15.706806  10.169492\n",
       "Outdoor            6.153846    17.289459   9.629630\n",
       "Unknown Location  12.112542    16.539440  12.624357\n",
       "Other Location    12.275449    14.027630  15.025907\n",
       "Kitchen           10.243902    16.306954  16.666667\n",
       "Living Room       13.712544    14.117647  17.427386\n",
       "Bedroom           19.085487    18.319838  18.386492"
      ]
     },
     "execution_count": 28,
     "metadata": {},
     "output_type": "execute_result"
    }
   ],
   "source": [
    "#jmdf = jmdf.unstack().unstack()\n",
    "jmdf"
   ]
  },
  {
   "cell_type": "code",
   "execution_count": 29,
   "metadata": {
    "_datascience": {
     "keep": true,
     "summary": true
    },
    "collapsed": false
   },
   "outputs": [
    {
     "data": {
      "text/html": [
       "\n",
       "        <iframe\n",
       "            width=\"100%\"\n",
       "            height=\"500\"\n",
       "            src=\"https://viz.datascience.com/id/78972fb73f17726e5c2e2a34493237d0?params=%7B%27kind%27%3A+u%27bar%27%2C+%27id%27%3A+u%2778972fb73f17726e5c2e2a34493237d0%27%2C+%27title%27%3A+u%27Users+who+Exhibit+Strong+Daily+Manual+Actuation+Patterns%27%7D\"\n",
       "            frameborder=\"0\"\n",
       "            allowfullscreen\n",
       "        ></iframe>\n",
       "        "
      ],
      "text/plain": [
       "<IPython.lib.display.IFrame at 0x7fa21a2f9290>"
      ]
     },
     "execution_count": 29,
     "metadata": {},
     "output_type": "execute_result"
    }
   ],
   "source": [
    "rk.plot(jmdf, kind = 'bar',\n",
    "        title='Users who Exhibit Strong Daily Manual Actuation Patterns',\n",
    "        ylabel='Percentage of Devices in Location')"
   ]
  },
  {
   "cell_type": "code",
   "execution_count": 30,
   "metadata": {
    "_datascience": {},
    "collapsed": false
   },
   "outputs": [],
   "source": [
    "query = \"\"\"\n",
    "SELECT location,\n",
    "       modelcode,\n",
    "       device,\n",
    "       actuation_f.macaddress AS mac,\n",
    "       DATE (datets) AS DATE,\n",
    "       DATE_PART('hour',datets) AS hour,\n",
    "       COUNT(1) AS acts\n",
    "FROM actuation_f\n",
    "  INNER JOIN ((      SELECT d1.macaddress AS mac,\n",
    "                     w.modelcode,\n",
    "                     location,\n",
    "                     device,\n",
    "                     MAX(DATE) AS last_usage_date,\n",
    "                     COUNT(1)\n",
    "              FROM (SELECT macaddress,\n",
    "                           DATE (datets) AS DATE,\n",
    "                           DATE_PART('hour',datets) AS HOUR,\n",
    "                           COUNT(1) AS acts\n",
    "                    FROM actuation_f\n",
    "                    WHERE LOWER (actuatedby) LIKE '%manual%'\n",
    "                    GROUP BY macaddress,\n",
    "                             DATE (datets),\n",
    "                             DATE_PART('hour',datets)) AS d1\n",
    "                LEFT JOIN wemo_d AS w ON w.macaddress = d1.macaddress\n",
    "                LEFT JOIN ds_custom_name_annotations AS ds ON ds.wemoid = w.pluginid\n",
    "              WHERE device <> '' and device <> 'light'\n",
    "              GROUP BY d1.macaddress,\n",
    "                       w.modelcode,\n",
    "                       location,\n",
    "                       device\n",
    "                       \n",
    "                       )\n",
    "                UNION       \n",
    "                      (      SELECT d1.macaddress AS mac,\n",
    "                     w.modelcode,\n",
    "                     location,\n",
    "                     device,\n",
    "                     MAX(DATE) AS last_usage_date,\n",
    "                     COUNT(1)\n",
    "              FROM (SELECT macaddress,\n",
    "                           DATE (datets) AS DATE,\n",
    "                           DATE_PART('hour',datets) AS HOUR,\n",
    "                           COUNT(1) AS acts\n",
    "                    FROM actuation_f\n",
    "                    WHERE LOWER (actuatedby) LIKE '%manual%'\n",
    "                    GROUP BY macaddress,\n",
    "                             DATE (datets),\n",
    "                             DATE_PART('hour',datets)) AS d1\n",
    "                LEFT JOIN wemo_d AS w ON w.macaddress = d1.macaddress\n",
    "                LEFT JOIN ds_custom_name_annotations AS ds ON ds.wemoid = w.pluginid\n",
    "              WHERE device <> '' and device <> 'light'\n",
    "              GROUP BY d1.macaddress,\n",
    "                       w.modelcode,\n",
    "                       location,\n",
    "                       device\n",
    "                       \n",
    "                       ) \n",
    "                       ) AS freq_macs ON freq_macs.mac = actuation_f.macaddress\n",
    "WHERE lower (actuatedby) LIKE '%manual%'\n",
    "AND   datediff (days,DATE (datets),DATE ('2016-08-27')) < 14\n",
    "GROUP BY location,\n",
    "         modelcode,\n",
    "         device,\n",
    "         actuation_f.macaddress,\n",
    "         DATE (datets),\n",
    "         DATE_PART('hour',datets)\n",
    "\n",
    "\n",
    "\n",
    "\n",
    "\n",
    "     \n",
    "        \n",
    "\"\"\"        \n",
    "df = pd.read_sql(query, conn)\n",
    "df = df.sort(['mac','date','hour'], ascending = True)\n",
    "df['ts'] = df.apply(lambda x: datetime.datetime(x['date'].year, x['date'].month, x['date'].day,int(x['hour'])),axis=1)"
   ]
  },
  {
   "cell_type": "code",
   "execution_count": 31,
   "metadata": {
    "_datascience": {},
    "collapsed": true
   },
   "outputs": [],
   "source": [
    "id_col = 'mac'\n",
    "ordering_col = 'ts'\n",
    "event_col = 'acts'\n",
    "z = explodeDataFrameHours(df, ordering_col, id_col, event_col).reset_index()"
   ]
  },
  {
   "cell_type": "code",
   "execution_count": 32,
   "metadata": {
    "_datascience": {},
    "collapsed": true
   },
   "outputs": [],
   "source": [
    "z['hour'] = z.ts.apply(lambda x: x.hour)\n",
    "z['hour_number'] = z.groupby('mac').cumcount()\n",
    "z['last_actuation'] = z.mac != z.mac.shift(-1)\n",
    "z['first_actuation'] = z.mac != z.mac.shift(1)\n",
    "z['inactive'] = (z.acts==0).map({True:1, False:0})\n",
    "z['was_inactive'] = z['inactive'].shift()\n",
    "z['was_inactive'][z.first_actuation==True] = np.nan\n",
    "z['periods_ianctive'] = z.apply(lambda x: cond_count(x), axis = 1)\n",
    "z['hour_number'] = z.groupby('mac').cumcount()\n",
    "z['period_shift'] = z.inactive != z.was_inactive\n",
    "z['period_shift'] = z.groupby('mac')['period_shift'].cumsum()"
   ]
  },
  {
   "cell_type": "code",
   "execution_count": null,
   "metadata": {
    "_datascience": {},
    "collapsed": true
   },
   "outputs": [],
   "source": []
  },
  {
   "cell_type": "code",
   "execution_count": null,
   "metadata": {
    "_datascience": {},
    "collapsed": true
   },
   "outputs": [],
   "source": []
  },
  {
   "cell_type": "code",
   "execution_count": 33,
   "metadata": {
    "_datascience": {},
    "collapsed": true
   },
   "outputs": [],
   "source": [
    "from statsmodels.tsa import stattools\n",
    "\n",
    "mac_addresses = list(set(z.mac))\n",
    "acfs = {}\n",
    "sigs = {}\n",
    "\n",
    "lag_hours = 24 * 7\n",
    "\n",
    "\n",
    "for mac in mac_addresses:\n",
    "    counts = z[z.mac==mac].acts\n",
    "    if len(counts)>lag_hours:\n",
    "        acfs[mac], sig = stattools.acf(counts, nlags=lag_hours, alpha = .05)\n",
    "        sig_level = np.apply_along_axis(lambda x: np.equal(*np.sign(x)) and x[1] > 0, 1, sig)\n",
    "        sigs[mac] = sig_level\n",
    "    else:\n",
    "        acfs[mac] = np.nan\n",
    "        sigs[mac] = np.nan\n",
    "acfs = pd.DataFrame(acfs)\n",
    "acfs = acfs.T\n",
    "sigs = pd.DataFrame(sigs).T"
   ]
  },
  {
   "cell_type": "code",
   "execution_count": 34,
   "metadata": {
    "_datascience": {},
    "collapsed": true
   },
   "outputs": [],
   "source": [
    "cycle_data = sigs[range(1, lag_hours)].apply(lambda x: conditional_idxmax(x),axis=1)\n",
    "mac_addresses_of_daily_users = cycle_data[cycle_data==24].index.values\n",
    "\n",
    "append_data = df.groupby(['mac','modelcode','device'])['date'].count().reset_index().drop('date',1).set_index('mac')\n",
    "append_data['cycle'] = cycle_data\n",
    "append_data['has_24_hour_cycle'] = append_data.cycle.apply(lambda x: x in (23,24,25))\n"
   ]
  },
  {
   "cell_type": "markdown",
   "metadata": {
    "_datascience": {
     "keep": true
    }
   },
   "source": [
    "Percentages of users who actuate manually on 24-hour cycles also differs by the kind of device plugged in to WeMo Switches. Electric blankets and coffee makers are the most commonly actuated on 24-hour cycles, at 18-19% of the time. This is likely due to these devices' place in daily routines, i.e. during sleep and immediately after waking up. Fans, AC units, and heaters are less likely to be actuated on 24-hour cycles, but are more commonly actuated on 10 to 12-hour cycles, possibly corresponding to users' work schedules."
   ]
  },
  {
   "cell_type": "code",
   "execution_count": null,
   "metadata": {
    "_datascience": {},
    "collapsed": true
   },
   "outputs": [],
   "source": [
    "common_devices = append_data.device.value_counts()[append_data.device.value_counts() > 75].index.values\n",
    "plot_data = append_data.groupby('device')['has_24_hour_cycle'].mean().loc[common_devices].sort_values(ascending = False)"
   ]
  },
  {
   "cell_type": "code",
   "execution_count": 39,
   "metadata": {
    "_datascience": {},
    "collapsed": false
   },
   "outputs": [
    {
     "data": {
      "text/plain": [
       "device\n",
       "Electric Blanket           18.823529\n",
       "Coffee Maker               17.537943\n",
       "Kettle                     15.887850\n",
       "Water Heater               11.627907\n",
       "TV                         10.645724\n",
       "Fan                        10.366329\n",
       "Heater                      9.931507\n",
       "AC                          9.467456\n",
       "christmas/outdoor light     9.055338\n",
       "Music                       8.620690\n",
       "Camera                      4.020101\n",
       "Name: has_24_hour_cycle, dtype: float64"
      ]
     },
     "execution_count": 39,
     "metadata": {},
     "output_type": "execute_result"
    }
   ],
   "source": [
    "final_df = plot_data.copy()\n",
    "final_df = final_df * 100\n",
    "final_df"
   ]
  },
  {
   "cell_type": "code",
   "execution_count": 43,
   "metadata": {
    "_datascience": {
     "keep": true
    },
    "collapsed": false
   },
   "outputs": [
    {
     "data": {
      "text/html": [
       "\n",
       "        <iframe\n",
       "            width=\"100%\"\n",
       "            height=\"500\"\n",
       "            src=\"https://viz.datascience.com/id/3de214acec1ef4acf804ae3af1af86b7?params=%7B%27kind%27%3A+u%27barh%27%2C+%27id%27%3A+u%273de214acec1ef4acf804ae3af1af86b7%27%2C+%27title%27%3A+u%27Switch+Users+who+Exhibit+Daily+Manual+Actuation+Patterns%27%7D\"\n",
       "            frameborder=\"0\"\n",
       "            allowfullscreen\n",
       "        ></iframe>\n",
       "        "
      ],
      "text/plain": [
       "<IPython.lib.display.IFrame at 0x7fa21a04e090>"
      ]
     },
     "execution_count": 43,
     "metadata": {},
     "output_type": "execute_result"
    }
   ],
   "source": [
    "rk.plot(final_df,\n",
    "        title='Switch Users who Exhibit Daily Manual Actuation Patterns',\n",
    "        xlabel = 'Plugged-in Device',\n",
    "        ylabel='Percentage of Users with Daily Usage Pattern')"
   ]
  },
  {
   "cell_type": "markdown",
   "metadata": {
    "_datascience": {
     "keep": true
    }
   },
   "source": [
    "### Impact and Further Opportunities\n",
    "\n",
    "This post explored the prevalence of repeated cycles of manual device actuations, with the intent of determining the viability of recommending rules based on these patterns. 24-hour cycles are common, with some device subsets utilizing them up to 19% of the time.\n",
    "\n",
    "Of the users on 24-hour cycles, only 40-45% have ever used time rules. Because these users are using manual actuations in a pattern that lends itself to time rules, the value they are extracting from their devices could potentially be enhanced by recommending rules. This could be done via enhancements to the app, e.g. implementation of push notifications based on patterns. This analysis is also valuable as a measurement of overall use/disuse of time rules in situations where they would be helpful. Future analyses can examine the viability of recommending other rule types based on behavioral patterns."
   ]
  },
  {
   "cell_type": "code",
   "execution_count": null,
   "metadata": {
    "_datascience": {},
    "collapsed": true
   },
   "outputs": [],
   "source": []
  }
 ],
 "metadata": {
  "_datascience": {
   "post_id": 811
  },
  "kernelspec": {
   "display_name": "Python 2",
   "language": "python",
   "name": "python2"
  },
  "language_info": {
   "codemirror_mode": {
    "name": "ipython",
    "version": 2
   },
   "file_extension": ".py",
   "mimetype": "text/x-python",
   "name": "python",
   "nbconvert_exporter": "python",
   "pygments_lexer": "ipython2",
   "version": "2.7.6"
  }
 },
 "nbformat": 4,
 "nbformat_minor": 0
}
