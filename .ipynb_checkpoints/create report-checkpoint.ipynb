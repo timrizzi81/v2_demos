{
 "cells": [
  {
   "cell_type": "code",
   "execution_count": 2,
   "metadata": {
    "collapsed": false,
    "deletable": true,
    "editable": true
   },
   "outputs": [
    {
     "ename": "SyntaxError",
     "evalue": "EOL while scanning string literal (<ipython-input-2-18ca6c7b483e>, line 4)",
     "output_type": "error",
     "traceback": [
      "\u001b[0;36m  File \u001b[0;32m\"<ipython-input-2-18ca6c7b483e>\"\u001b[0;36m, line \u001b[0;32m4\u001b[0m\n\u001b[0;31m    file.write(\"## The DataScience Cloud\u001b[0m\n\u001b[0m                                       ^\u001b[0m\n\u001b[0;31mSyntaxError\u001b[0m\u001b[0;31m:\u001b[0m EOL while scanning string literal\n"
     ]
    }
   ],
   "source": [
    "import os\n",
    "\n",
    "file = open(\"report.md\",\"w\")\n",
    "file.write(\"## The DataScience Cloud <br>\")\n",
    "file.write(\"![Platform Visual](https://raw.githubusercontent.com/timrizzi81/v2_demos/master/Platform%20Visual.png)\")\n",
    "file.close()\n",
    "\n",
    "os.system('git config --global user.email \"' + os.environ['GIT_EMAIL'] + '\"')\n",
    "os.system('git config --global user.name \"'+ os.environ['GIT_USERNAME'] +'\"')\n",
    "\n",
    "os.system(\"git add .\")\n",
    "os.system(\"git commit -m 'Automated git commit from run'\")\n",
    "os.system(\"git pull origin master\")\n",
    "os.system(\"git push origin master\")"
   ]
  },
  {
   "cell_type": "code",
   "execution_count": null,
   "metadata": {
    "collapsed": true,
    "deletable": true,
    "editable": true
   },
   "outputs": [],
   "source": []
  }
 ],
 "metadata": {
  "kernelspec": {
   "display_name": "Python 2",
   "language": "python",
   "name": "python2"
  },
  "language_info": {
   "codemirror_mode": {
    "name": "ipython",
    "version": 2
   },
   "file_extension": ".py",
   "mimetype": "text/x-python",
   "name": "python",
   "nbconvert_exporter": "python",
   "pygments_lexer": "ipython2",
   "version": "2.7.12"
  }
 },
 "nbformat": 4,
 "nbformat_minor": 2
}
