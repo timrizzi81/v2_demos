{
 "cells": [
  {
   "cell_type": "code",
   "execution_count": 1,
   "metadata": {
    "ExecuteTime": {
     "end_time": "2016-05-24T15:59:11.697082",
     "start_time": "2016-05-24T15:59:10.761621"
    },
    "_datascience": {},
    "code_folding": [
     0
    ],
    "collapsed": false
   },
   "outputs": [
    {
     "name": "stderr",
     "output_type": "stream",
     "text": [
      "/usr/local/lib/python2.7/dist-packages/matplotlib/__init__.py:872: UserWarning: axes.color_cycle is deprecated and replaced with axes.prop_cycle; please use the latter.\n",
      "  warnings.warn(self.msg_depr % (key, alt_key))\n"
     ]
    }
   ],
   "source": [
    "#imports\n",
    "%matplotlib inline\n",
    "%ds_look \n",
    "import psycopg2\n",
    "import numpy as np\n",
    "import pandas as pd\n",
    "import matplotlib.pyplot as plt\n",
    "import datetime\n",
    "import pyrothko as rk\n",
    "import matplotlib as mpl\n",
    "import ast\n",
    "import re\n",
    "import math\n",
    "from ds_api.model_inspector import ModelInspector\n",
    "from ds_api.cache_utils import read_obj_from_cache\n",
    "from sklearn.ensemble import RandomForestClassifier\n",
    "from scipy.stats import skew\n",
    "import statsmodels.api as sm\n",
    "from copy import copy\n",
    "\n",
    "\n",
    "colors = ['#45d3aa', \n",
    "          '#45b4ae',\n",
    "          '#608eae', \n",
    "          '#7870af',\n",
    "          '#d35945',\n",
    "          '#da8552',\n",
    "          '#dfa861',\n",
    "          '#e4c36f']\n",
    "\n",
    "plt.rcParams['figure.figsize'] = (16, 7)"
   ]
  },
  {
   "cell_type": "code",
   "execution_count": 2,
   "metadata": {
    "ExecuteTime": {
     "end_time": "2016-05-24T15:59:12.105458",
     "start_time": "2016-05-24T15:59:11.698540"
    },
    "_datascience": {},
    "code_folding": [
     0
    ],
    "collapsed": true
   },
   "outputs": [],
   "source": [
    "# utility and helper functions\n",
    "\n",
    "palette = ('#6E90A9','#7B74AA','#C86454','#D38252','#DDA051','#E8BE4F','#E24A33', '#0bb080')\n",
    "\n",
    "def myround(x, prec=2, base=.05):\n",
    "    return round(base * round(float(x)/base),prec)\n",
    "\n",
    "\n",
    "def normed_histogram(Series,bins=None):\n",
    "    if bins ==None:\n",
    "        vals,bins = np.histogram(Series.values)\n",
    "    else:\n",
    "        vals,bins = np.histogram(Series.values,bins=bins)\n",
    "    d_f = pd.DataFrame(zip(bins,vals))\n",
    "    d_f.columns = ['Bins','Proportion']\n",
    "    d_f=d_f.set_index('Bins')\n",
    "    d_f['Proportion'] = d_f['Proportion']/d_f['Proportion'].sum()\n",
    "    return d_f['Proportion']\n",
    "\n",
    "def quantilize(series, bins, under = True, return_thresholds = False):\n",
    "    thresholds = [series.quantile(i) for i in bins]\n",
    "    thresholds.append(1000000000)\n",
    "    if return_thresholds:\n",
    "        return series.apply(lambda x: \\\n",
    "                        np.argmin([abs(x-y) if x-y > 0 else 100000000 for y in thresholds]) if pd.isnull(x) == False else np.nan\n",
    "                    ), thresholds\n",
    "    else:\n",
    "        return series.apply(lambda x: \\\n",
    "                        np.argmin([abs(x-y) if x-y > 0 else 100000000 for y in thresholds]) if pd.isnull(x) == False else np.nan\n",
    "                    )\n",
    "\n",
    "def remove_outliers(dat, col, q=.99, impute=0):\n",
    "    quan = dat[col].quantile(q)\n",
    "    mean = dat[dat[col] < quan][col].mean()\n",
    "    if impute==0:\n",
    "        new_ = dat[dat[col] < quan]\n",
    "    if impute==1:\n",
    "        new_ = dat\n",
    "        new_[new_[col] < quan] = mean        \n",
    "    return new_\n",
    "\n",
    "def mean_confidence_interval(data, confidence=0.95):\n",
    "    a = 1.0*np.array(data)\n",
    "    n = len(a)\n",
    "    m, se = np.mean(a), scipy.stats.sem(a)\n",
    "    h = se * sp.stats.t._ppf((1+confidence)/2., n-1)\n",
    "    return m, m-h, m+h\n",
    "\n",
    "\n",
    "def figlen(x):\n",
    "    plt.rcParams['figure.figsize'] = (16, x)\n",
    "     \n",
    "def nearest_neighbor(Series, bins):\n",
    "    return Series.apply(lambda x: bins[np.argmin([abs(x - y) for y in bins])])\n",
    "\n",
    "def nearest_neighbor_histogram(Series, bins, normalize = True):\n",
    "    vals = nearest_neighbor(Series, bins)\n",
    "    counts = vals.value_counts(normalize = normalize)\n",
    "    \n",
    "    missing_bins = list(set(bins) - set(counts.index.values))\n",
    "    for b in missing_bins:\n",
    "        counts =counts.append({b: 0})\n",
    "    return counts\n",
    "\n",
    "def percentize(array, places = 0):\n",
    "    return [(\"{0:.\"+str(places)+\"f}\").format(x*100) + \"%\" for x in array]\n",
    "\n",
    "def flatten(List):\n",
    "    return [item for sublist in List for item in sublist]\n",
    "\n",
    "def F1(CM):\n",
    "    precision = CM[1].iloc[1] / float(CM[1].sum())\n",
    "    recall =  CM[1].iloc[1] / float(CM[1].iloc[1] + CM[0].iloc[1])\n",
    "    F1 = 2*(precision*recall)/(precision+recall)        \n",
    "    return F1\n",
    "\n",
    "def ACC(CM):\n",
    "    ACC = (CM[1].iloc[1]+CM[0].iloc[0]) / float(CM[1].sum()+CM[0].sum())    \n",
    "    return ACC\n",
    "\n",
    "def conf_mat(CM):\n",
    "    cm1 = CM.copy()\n",
    "    cm1.iloc[0] = cm1.iloc[0]/float(cm1.iloc[0].sum())\n",
    "    cm1.iloc[1] = cm1.iloc[1]/float(cm1.iloc[1].sum()) \n",
    "    return cm1\n",
    "\n",
    "def plot_by_time(validation_set, time='week'):\n",
    "    if time=='week':\n",
    "        validation_set['sign_up_week'] = validation_set['completed_signup_at'].apply(lambda x: x.week)\n",
    "    if time=='month':\n",
    "        validation_set['sign_up_week'] = validation_set['completed_signup_at'].apply(lambda x: x.month)\n",
    "    grouped = validation_set.groupby(['sign_up_week', 'is_dead','fitted'])['id'].count().unstack()\n",
    "    \n",
    "    plt.plot(grouped.groupby(level='sign_up_week').agg(F1)[0], label='F1')\n",
    "    plt.plot(grouped.groupby(level='sign_up_week').agg(ACC)[0], label='ACC')\n",
    "    plt.legend()\n",
    "    plt.show()\n",
    "\n",
    "def plot_prob_diagnostics(false_pos, true_pos, pred_prob, pred_prob_alive):\n",
    "    plt.rcParams['figure.figsize'] = (15,6)\n",
    "    f, (ax1, ax2, ax3) = plt.subplots(1, 3)\n",
    "    ax1.plot([0, 1], [0, 1], 'k--')\n",
    "    ax1.plot(false_pos, true_pos, label='RF')\n",
    "\n",
    "    ax1.set_xlabel('False positive rate')\n",
    "    ax1.set_ylabel('True positive rate')\n",
    "    ax1.set_title('ROC curve')\n",
    "\n",
    "    ax2.hist(pred_prob) \n",
    "    ax2.set_title('Predicted Churn Probabilities (all)')\n",
    "\n",
    "    ax3.hist(pred_prob_alive) \n",
    "    ax3.set_title('Predicted Churn Probabilities (Alive)')\n",
    "    plt.show()\n",
    "        \n",
    "def entropy(series):\n",
    "    val_counts =series.value_counts(normalize=True)\n",
    "    entropy = val_counts.apply(lambda x: x * math.log(x,2)).sum()\n",
    "    return entropy\n",
    "\n",
    "def findNearlyConstantColumns(dataframe):\n",
    "    dataframe['aux'] = dataframe[dataframe.columns.values[0]].apply(lambda x: 1).cumsum()\n",
    "    cols = dataframe.columns.values\n",
    "    es = {}\n",
    "    for col in cols:\n",
    "        es[col] =  entropy(dataframe[col])\n",
    "        \n",
    "    es = pd.DataFrame.from_dict(es, orient = 'index')\n",
    "    es['is_constant'] = pd.DataFrame.from_dict(dict(zip(cols,[len(dataframe[col].value_counts())<2 for col in cols])), orient='index')\n",
    "    es = es.sort(0)\n",
    "    max_entropy = es.loc['aux'][0]\n",
    "    es = es / max_entropy\n",
    "    es.columns = ['proportion_of_max_entropy','is_constant']\n",
    "    es['is_constant_risk'] = es.proportion_of_max_entropy.apply(lambda x: True if x < 0.01 else False)\n",
    "    es['99_percentile_value'] = dataframe.quantile(.99)\n",
    "    es['01_percentile_value'] = dataframe.quantile(.01)\n",
    "    es['99_percent_constant'] = es['99_percentile_value'] == es['01_percentile_value']\n",
    "    return es[((es['99_percent_constant'])&(es.is_constant_risk))| (es.is_constant)]\n",
    "\n",
    "    \n",
    "#Progress Bar\n",
    "import sys, time\n",
    "try:\n",
    "    from IPython.core.display import clear_output\n",
    "    have_ipython = True\n",
    "except ImportError:\n",
    "    have_ipython = False\n",
    "\n",
    "class ProgressBar:\n",
    "    def __init__(self, iterations):\n",
    "        self.iterations = iterations\n",
    "        self.prog_bar = '[]'\n",
    "        self.fill_char = '*'\n",
    "        self.width = 40\n",
    "        self.__update_amount(0)\n",
    "        if have_ipython:\n",
    "            self.animate = self.animate_ipython\n",
    "        else:\n",
    "            self.animate = self.animate_noipython\n",
    "\n",
    "    def animate_ipython(self, iter):\n",
    "        try:\n",
    "            clear_output()\n",
    "        except Exception:\n",
    "            # terminal IPython has no clear_output\n",
    "            pass\n",
    "        print '\\r', self,\n",
    "        sys.stdout.flush()\n",
    "        self.update_iteration(iter + 1)\n",
    "\n",
    "    def update_iteration(self, elapsed_iter):\n",
    "        self.__update_amount((elapsed_iter / float(self.iterations)) * 100.0)\n",
    "        self.prog_bar += '  %d of %s complete' % (elapsed_iter, self.iterations)\n",
    "\n",
    "    def __update_amount(self, new_amount):\n",
    "        percent_done = int(round((new_amount / 100.0) * 100.0))\n",
    "        all_full = self.width - 2\n",
    "        num_hashes = int(round((percent_done / 100.0) * all_full))\n",
    "        self.prog_bar = '[' + self.fill_char * num_hashes + ' ' * (all_full - num_hashes) + ']'\n",
    "        pct_place = (len(self.prog_bar) / 2) - len(str(percent_done))\n",
    "        pct_string = '%d%%' % percent_done\n",
    "        self.prog_bar = self.prog_bar[0:pct_place] + \\\n",
    "            (pct_string + self.prog_bar[pct_place + len(pct_string):])\n",
    "\n",
    "    def __str__(self):\n",
    "        return str(self.prog_bar)\n",
    "    "
   ]
  },
  {
   "cell_type": "code",
   "execution_count": 3,
   "metadata": {
    "ExecuteTime": {
     "end_time": "2016-05-24T15:59:12.138041",
     "start_time": "2016-05-24T15:59:12.106843"
    },
    "_datascience": {},
    "code_folding": [
     0
    ],
    "collapsed": true
   },
   "outputs": [],
   "source": [
    "# chart format utility\n",
    "def format_chart(ax,loc=None, horizontal=False):\n",
    "    \"\"\"A function to format matplotlib charts top look more rothko-esque\n",
    "    Can take in a single axis or a list of axes and format each chart. Build your chart\n",
    "    and then run format_chart() right before plt.show().\n",
    "    \n",
    "    Some notes:\n",
    "    You can pass it a single axis object or a list/tuple/array of axis objects and the \n",
    "    function will format them all the same way according to your specifications\n",
    "    \n",
    "    If you use plt to manipulate your charts, you have to pass an axis object. Do so\n",
    "    by passing the function plt.gca().\n",
    "    \n",
    "    loc handles the legend. Default is to always include a legend. You can either specify\n",
    "    a legend location with an integer 0-8 or no legend with loc=False.\n",
    "    \n",
    "    horizontal = True is for horizontally oriented charts\"\"\"\n",
    "    \n",
    "    def formater(ax,horizontal = horizontal, loc=None):\n",
    "        \n",
    "        if horizontal:\n",
    "            #determine the visible spines/ticks and where grids should be\n",
    "            visible_spines = ['top','bottom','right']\n",
    "            grid_orientation = ax.xaxis\n",
    "        else:\n",
    "            visible_spines = ['top','left','right']\n",
    "            grid_orientation = ax.yaxis\n",
    "\n",
    "        #remove spines\n",
    "        for spine in visible_spines:\n",
    "            ax.spines[spine].set_visible(False)\n",
    "\n",
    "        #remove excess ticks\n",
    "        ax.xaxis.set_tick_params(which='both',top= False if 'top' in visible_spines else True\n",
    "                                 , bottom = False if 'bottom' in visible_spines else True)\n",
    "        ax.yaxis.set_tick_params(which='both',left= False if 'left' in visible_spines else True\n",
    "                                 , right = False if 'right' in visible_spines else True)\n",
    "        #grids\n",
    "        ax.grid(False)\n",
    "        grid_orientation.grid(True)\n",
    "                \n",
    "        #white background\n",
    "        ax.set_axis_bgcolor('w')\n",
    "\n",
    "        #change legend frame\n",
    "        if loc != None:\n",
    "            _loc = loc\n",
    "        else:\n",
    "            _loc = 0\n",
    "        \n",
    "        if loc != False:\n",
    "            ax.legend(frameon=False,loc = _loc)    \n",
    "\n",
    "        return ax\n",
    "\n",
    "    \n",
    "    #if list of axes, iterate through the list\n",
    "    if type(ax) == list:\n",
    "        new_ax = [formater(x,horizontal,loc) for x in ax]\n",
    "    else:        \n",
    "        new_ax = formater(ax,horizontal,loc)\n",
    "\n",
    "    return new_ax"
   ]
  },
  {
   "cell_type": "code",
   "execution_count": 4,
   "metadata": {
    "ExecuteTime": {
     "end_time": "2016-05-24T15:59:12.179970",
     "start_time": "2016-05-24T15:59:12.140519"
    },
    "_datascience": {},
    "code_folding": [
     0
    ],
    "collapsed": true
   },
   "outputs": [],
   "source": [
    "#column functions\n",
    "def daysSinceLastPossible(x):\n",
    "    try:\n",
    "        return (LAST_POSSIBLE_SIGN_IN_DATE - x).days\n",
    "    except AttributeError:\n",
    "        return np.nan\n",
    "    \n",
    "def platformWeb(x):\n",
    "    return 1 if x=='web' else 0\n",
    "\n",
    "def platformMobile(x):\n",
    "    return 1 if x=='mobile' else 0\n",
    "\n",
    "def nonNull(x):\n",
    "    return 0 if pd.isnull(x) else 1\n",
    "\n",
    "def signInsPerWeek(x):\n",
    "    return x['sign_in_count'] / (x['weeks_duration'] + 1)\n",
    "\n",
    "def emailDomain(x): \n",
    "    return x.split(\"@\")[1]\n",
    "\n",
    "def emptyStringToNull(x):\n",
    "    return np.nan if x == '' else x\n",
    "\n",
    "def splitStringContains(x,  String,splitter = \",\"):\n",
    "    x = str(x).split(splitter)\n",
    "    return 1 if String in x else 0\n",
    "\n",
    "def columnContains(x, String='', sep_by_char = ','):\n",
    "    x = str(x).replace(\" \",'')\n",
    "    end_of_line1 = sep_by_char + String+'$'\n",
    "    end_of_line2 = \"^\" + String+'$'\n",
    "    begin_of_line1 = \"^\" + String + sep_by_char\n",
    "    begin_of_line1 = \"^\" + String + \"$\"\n",
    "    sep_by_char = ','\n",
    "    middle_of_line = sep_by_char+String+sep_by_char\n",
    "    pattern = end_of_line + \"|\" +begin_of_line+\"|\" + middle_of_line\n",
    "    match = len(re.findall(pattern, x)) > 0\n",
    "    return 1 if match else 0\n",
    "\n",
    "def countInstances(x, String=''):\n",
    "    return len(re.findall(String, str(x).lower()))\n",
    "\n",
    "def fillna(x, with_value = 0):\n",
    "    return with_value if pd.isnull(x) else x\n",
    "\n",
    "def hasRemainingCredit(x):\n",
    "    return 0 if x['credit_total'] + x['credit_deduct_total'] == 0 else 1\n",
    "\n",
    "def remainingCredit(x):\n",
    "    return x['credit_total'] + x['credit_deduct_total'] \n",
    "\n",
    "def perWeek(x, column = ''):\n",
    "    return fillna(x[column] / (x['weeks_duration']+1))\n",
    "       \n",
    "def timeToFirstDiscount(x):\n",
    "    diff = (x['first_discount_date'] - x['completed_signup_at'])\n",
    "    if pd.isnull(diff):\n",
    "        return diff\n",
    "    else:\n",
    "        return diff.days\n",
    "    \n",
    "def getDictVal(x, key = None, null_val = 0):\n",
    "    if x != '':\n",
    "        x = ast.literal_eval(x)\n",
    "        if key in x.keys():\n",
    "            return x[key]\n",
    "        else:\n",
    "            return null_val\n",
    "    else:\n",
    "        return null_val   "
   ]
  },
  {
   "cell_type": "code",
   "execution_count": 5,
   "metadata": {
    "ExecuteTime": {
     "end_time": "2016-05-24T15:59:12.186586",
     "start_time": "2016-05-24T15:59:12.181652"
    },
    "_datascience": {},
    "code_folding": [
     0
    ],
    "collapsed": true
   },
   "outputs": [],
   "source": [
    "#Load Perturbations Function and Assign to Inspector Object\n",
    "@cache(filename = 'home-chef-churn-model-perturbations', overwrite = False)\n",
    "def load_perturbations():\n",
    "    return precomputed_perturbations "
   ]
  },
  {
   "cell_type": "code",
   "execution_count": 6,
   "metadata": {
    "ExecuteTime": {
     "end_time": "2016-05-24T15:59:12.193536",
     "start_time": "2016-05-24T15:59:12.188683"
    },
    "_datascience": {},
    "code_folding": [
     0
    ],
    "collapsed": true
   },
   "outputs": [],
   "source": [
    "#query func\n",
    "@cache()\n",
    "def sql(Query):\n",
    "    conn = psycopg2.connect(\n",
    "       database='homechef',\n",
    "       port=os.environ['REDSHIFT_PORT'],\n",
    "       password=os.environ['REDSHIFT_PASS'],\n",
    "       user=os.environ['REDSHIFT_USER'],\n",
    "       host=os.environ['REDSHIFT_HOST'])\n",
    "    return pd.read_sql(Query,conn)"
   ]
  },
  {
   "cell_type": "code",
   "execution_count": 7,
   "metadata": {
    "ExecuteTime": {
     "end_time": "2016-05-24T15:59:12.244008",
     "start_time": "2016-05-24T15:59:12.195675"
    },
    "_datascience": {},
    "code_folding": [],
    "collapsed": true
   },
   "outputs": [],
   "source": [
    "# hazards domain\n",
    "hazards_domain = [\n",
    "'servings',\n",
    "'weekly_meals',\n",
    "#'delivery_error_count',\n",
    "'errors_per_week',\n",
    "'is_returning',\n",
    "'is_referral',\n",
    "'referals_sent',\n",
    "'referals_sent_accepted',\n",
    "#'refund_count',\n",
    "'refunds_per_week',\n",
    "#'average_i_rating',\n",
    "'average_r_rating',\n",
    "'email_opt_out',\n",
    "'add_on_count',\n",
    "'avg_meal_rating',\n",
    "'req_cooking_spray',\n",
    "'req_ice',\n",
    "'req_olive_oil',\n",
    "'avg_difficulty_level',\n",
    "'avg_spice_level',\n",
    "'prep_avg',\n",
    "'avg_days_cook_by',\n",
    "'deliver_day_Thursday',\n",
    "'discount_EmployeeGift',\n",
    "'dietary_preference_Low-calorie',\n",
    "'allergy_Shellfish',\n",
    "'discount_UserReferral',\n",
    "'allergy_Shrimp',\n",
    "'allergy_Dairy',\n",
    "'allergy_Garlic',\n",
    "#'experiment_secret_sale',\n",
    "'discovery_Friend',\n",
    "#'number_of_discounts',\n",
    "#'discounts_per_week',\n",
    "# 'discounts_amt_per_week',\n",
    "'total_discount_amount',\n",
    "#'experiment_signup_gift_offer',\n",
    "'has_remaining_credit',\n",
    "'dietary_restriction_Pescatarian',\n",
    "'renewals_per_week',\n",
    "#'experiment_referral_reminder_template',\n",
    "'allergy_Mushrooms',\n",
    "'allergy_Red Meat',\n",
    "'allergy_Fish',\n",
    "'skips_per_week',\n",
    "'discount_Gift',\n",
    "'add_on_Premium Meal',\n",
    "'deliver_day_Wednesday',\n",
    "#'experiment_referral_sender_template',\n",
    "'allergy_Soy',\n",
    "'dietary_restriction_Paleo',\n",
    "'add_on_Breakfast',\n",
    "'dietary_restriction_Vegan',\n",
    "'deliver_day_Tuesday',\n",
    "'signInsPerWeek',\n",
    "'lastSignInOnMobile',\n",
    "'discount_FreeBox',\n",
    "#'experiment_signup_flow',\n",
    "'add_on_Fruit Basket',\n",
    "'allergy_Tree Nuts',\n",
    "'discount_AffiliateReferral',\n",
    "#'experiment_ba_funnel',\n",
    "'discovery_Facebook',\n",
    "'deliver_day_Friday',\n",
    "'discount_ZumbaReferral',\n",
    "'hasPromotion',\n",
    "'dietary_restriction_Meat & seafood only',\n",
    "'dietary_restriction_Vegetarian',\n",
    "'add_on_Smoothie',\n",
    "'allergy_Nuts',\n",
    "'dietary_restriction_Meat only',\n",
    "'dietary_restriction_Omnivore',\n",
    "#'experiment_menu_order',\n",
    "'discount_FlatDiscount',\n",
    "'dietary_preference_Low-carb',\n",
    "'allergy_Poultry',\n",
    "'allergy_Eggs',\n",
    "'remaining_credit',\n",
    "#'experiment_binder',\n",
    "'discount_PercentDiscount',\n",
    "'allergy_Onion',\n",
    "'allergy_Gluten',\n",
    "'allergy_Pork',\n",
    "'allergy_Peanuts',\n",
    "'has_discovery',\n",
    "'allergy_Corn',\n",
    "#'experiment_free_box_reminder_template',\n",
    "#'experiment_monday_mailer',\n",
    "'first_week_skipper',\n",
    "'late_skipper',\n",
    "'error_on_first_basket',\n",
    "'voucher_Promo Email',\n",
    "'voucher_Facebook',\n",
    "'voucher_Google',\n",
    "'voucher_Bing/Yahoo',\n",
    "'voucher_RetailMeNot',\n",
    "'voucher_Other',\n",
    "'is_gmail',\n",
    "'is_yahoo',\n",
    "'is_hotmail',\n",
    "'is_aol',\n",
    "'is_.net',\n",
    "'is_edu']"
   ]
  },
  {
   "cell_type": "code",
   "execution_count": 8,
   "metadata": {
    "ExecuteTime": {
     "end_time": "2016-05-24T15:59:12.344735",
     "start_time": "2016-05-24T15:59:12.245119"
    },
    "_datascience": {},
    "code_folding": [
     0
    ],
    "collapsed": false
   },
   "outputs": [],
   "source": [
    "#Charting colors and pretty names\n",
    "pretty_feature_names = {\"add_on_Breakfast\" : \"Add-On: Breakfast\",\n",
    "\"add_on_Fruit Basket\" : \"Add-on: Fruit Basket\",\n",
    "\"add_on_Premium Meal\" : \"Add-On: Premium Meal\",\n",
    "\"add_on_Smoothie\" : \"Add On: Smoothie\",\n",
    "\"add_on_count\" : \"Number of Add-Ons\",\n",
    "\"allergy_Corn\" : \"Allergy: Corn\",\n",
    "\"allergy_Dairy\" : \"Allergy: Dairy\",\n",
    "\"allergy_Eggs\" : \"Allergy: Eggs\",\n",
    "\"allergy_Fish\" : \"Allergy: Fish\",\n",
    "\"allergy_Garlic\" : \"Allergy: Garlic\",\n",
    "\"allergy_Gluten\" : \"Allergy: Gluten\",\n",
    "\"allergy_Mushrooms\" : \"Allergy: Mushrooms\",\n",
    "\"allergy_Nuts\" : \"Allergy: Nuts\",\n",
    "\"allergy_Onion\" : \"Allergy: Onion\",\n",
    "\"allergy_Peanuts\" : \"Allergy: Peanuts\",\n",
    "\"allergy_Pork\" : \"Allergy: Pork\",\n",
    "\"allergy_Poultry\" : \"Allergy: Poultry\",\n",
    "\"allergy_Red Meat\" : \"Allergy: Red Meat\",\n",
    "\"allergy_Shellfish\" : \"Allergy: Shellfish\",\n",
    "\"allergy_Shrimp\" : \"Allergy: Shrimp\",\n",
    "\"allergy_Soy\" : \"Allergy: Soy\",\n",
    "\"allergy_Tree Nuts\" : \"Allergy: Tree Nuts\",\n",
    "\"average_i_rating\" : \"Average Ingredient Rating\",\n",
    "\"average_r_rating\" : \"Average Recipe Rating\",\n",
    "\"avg_days_cook_by\" : \"Average Days Cook By\",\n",
    "\"avg_difficulty_level\" : \"Average Recipe Difficulty\",\n",
    "\"avg_meal_rating\" : \"Average Meal Rating\",\n",
    "\"daysSinceLastSignIn\" : \"Days Since Last Site Visit\",\n",
    "\"deliver_day_Friday\" : \"Delivery Day: Friday\",\n",
    "\"deliver_day_Thursday\" : \"Delivery Day: Thursday\",\n",
    "\"deliver_day_Tuesday\" : \"Delivery Day: Tuesday\",\n",
    "\"deliver_day_Wednesday\" : \"Delivery Day: Wednesday\",\n",
    "\"delivery_error_count\" : \"Number of Deliver Errors\",\n",
    "\"dietary_preference_Low-calorie\" : \"Dietary: Low-Calorie\",\n",
    "\"dietary_preference_Low-carb\" : \"Dietary Preference: Low-Carb\",\n",
    "\"dietary_restriction_Meat & seafood only\" : \"Dietary Restriction: Meat/Seafood Only\",\n",
    "\"dietary_restriction_Meat only\" : \"Dietary Restriction: Meat Only\",\n",
    "\"dietary_restriction_Omnivore\" : \"Dietary Restriction: Omnivore\",\n",
    "\"dietary_restriction_Paleo\" : \"Dietary Restriction: Paleo\",\n",
    "\"dietary_restriction_Pescatarian\" : \"Dietary Restriction: Pescatarian\",\n",
    "\"dietary_restriction_Vegan\" : \"Diet Restriction: Vegan\",\n",
    "\"dietary_restriction_Vegetarian\" : \"Dietary Restriction: Vegetarian\",\n",
    "\"discount_AffiliateReferral\" : \"Discount: Affiliate Referral\",\n",
    "\"discount_EmployeeGift\" : \"Discount: Employee Gift\",\n",
    "\"discount_FlatDiscount\" : \"Discount: Flat\",\n",
    "\"discount_FreeBox\" : \"Discount: Free Box\",\n",
    "\"discount_Gift\" : \"Discount: Gift\",\n",
    "\"discount_PercentDiscount\" : \"Discount: Percent Discount\",\n",
    "\"discount_UserReferral\" : \"Discount: Referral\",\n",
    "\"discount_ZumbaReferral\" : \"Discount: Zumba Referral\",\n",
    "\"discounts_amt_per_week\" : \"Discount: Amount per Week\",\n",
    "\"discounts_per_week\" : \"Discount: Count per Week\",\n",
    "\"discovery\" : \"Discovery Type\",\n",
    "\"discovery_Facebook\" : \"Disvocery: Facebook\",\n",
    "\"discovery_Friend\" : \"Discovery: Friend\",\n",
    "\"discovery_Google/ Yahoo / Bing\" : \"Discovery: Search Engine\",\n",
    "\"discovery_Other\" : \"Discovery: Other\",\n",
    "\"emailDomain\" : \"Email Provider\",\n",
    "\"email_opt_out\" : \"Opt Out of Emails\",\n",
    "\"error_on_first_basket\" : \"Delivery Error on First Basket\",\n",
    "\"errors_per_week\" : \"Delivery Errors per Week\",\n",
    "\"experiment_ba_funnel\" : \"Experiment: Funnel\",\n",
    "\"experiment_binder\" : \"Experiment: Binder\",\n",
    "\"experiment_free_box_reminder_template\" : \"Experiment: Free Box Reminder\",\n",
    "\"experiment_menu_order\" : \"Experiment: Menu Order\",\n",
    "\"experiment_monday_mailer\" : \"Experiment: Monday Mailer\",\n",
    "\"experiment_no_monday_ship_day\" : \"Experiment: No Monday Shipments\",\n",
    "\"experiment_referral_reminder_template\" : \"Experiment: Referral Reminder\",\n",
    "\"experiment_referral_sender_template\" : \"Experiment: Referral Sender\",\n",
    "\"experiment_secret_sale\" : \"Experiment: Secret Sale\",\n",
    "\"experiment_signup_flow\" : \"Experiment: Signup Flow\",\n",
    "\"experiment_signup_gift_offer\" : \"Experiment: Gift Offer\",\n",
    "\"first_week_skipper\" : \"Skipped First Week\",\n",
    "\"is_.net\" : \"Email: .net\",\n",
    "\"is_aol\" : \"Email: AOL\",\n",
    "\"is_edu\" : \"Email: .edu\",\n",
    "\"is_gmail\" : \"Email: gmail\",\n",
    "\"is_hotmail\" : \"Email: hotmail\",\n",
    "\"is_referral\" : \"User was Referred\",\n",
    "\"is_returning\" : \"Returning User (previous pause)\",\n",
    "\"is_yahoo\" : \"Email: yahoo\",\n",
    "\"hasPromotion\" : \"Used Promotion\",\n",
    "\"has_discovery\" : \"Has Discovery\",\n",
    "\"has_remaining_credit\" : \"Positive Credit\",\n",
    "\"lastSignInOnMobile\" : \"Last Sign on Mobile\",\n",
    "\"lastSignInOnWeb\" : \"Last Website Visit\",\n",
    "\"late_skipper\" : \"Late Skipper\",\n",
    "\"number_of_discounts\" : \"Number of Discounts\",\n",
    "\"prep_avg\" : \"Average Meal Prep Time\",\n",
    "\"promotion_type\" : \"Promotion Type\",\n",
    "\"referals_sent\" : \"Referred Friends\",\n",
    "\"referals_sent_accepted\" : \"Accepted Referrals\",\n",
    "\"refund_count\" : \"Refunds Received\",\n",
    "\"refund_total\" : \"Refund Total\",\n",
    "\"refunds_per_week\" : \"Refund Amount per Week\",\n",
    "\"remaining_credit\" : \"Credit Balance\",\n",
    "\"renewals_per_week\" : \"Renewals per Week\",\n",
    "\"req_ice\" : \"Proportion of Meals Rerquires Ice\",\n",
    "\"req_olive_oil\" : \"Proportion of Meals Requires Olive Oil\",\n",
    "\"req_cooking_spray\" : \"Number of Meals Requiring Cooking Spray\",\n",
    "\"servings\" : \"Number of Servings\",\n",
    "\"signInsPerWeek\" : \"Sign-Ins per Week\",\n",
    "\"skips_per_week\" : \"Skips per Week\",\n",
    "\"time_to_first_discount\" : \"Time to First Discount\",\n",
    "\"total_discount_amount\" : \"Total Discount Amount\",\n",
    "\"voucher_Bing/Yahoo\" : \"Voucher: Yahoo\",\n",
    "\"voucher_Facebook\" : \"Voucher: Facebook\",\n",
    "\"voucher_Google\" : \"Voucher: Google\",\n",
    "\"voucher_Other\" : \"Voucher: Other\",\n",
    "\"voucher_Promo Email\" : \"Voucher: Promo Email\",\n",
    "\"voucher_RetailMeNot\" : \"Voucher: RetailMeNot\",\n",
    "\"weekly_meals\" : \"Number of Meals per Week\"}\n",
    "\n",
    "color_map = {\n",
    "    'Generally Positive': '#558000',\n",
    "    'Generally Negative': palette[2],\n",
    "    'Mixed': palette[5]    \n",
    "}"
   ]
  },
  {
   "cell_type": "code",
   "execution_count": 9,
   "metadata": {
    "ExecuteTime": {
     "end_time": "2016-05-24T15:59:13.343061",
     "start_time": "2016-05-24T15:59:12.345916"
    },
    "_datascience": {},
    "code_folding": [],
    "collapsed": false
   },
   "outputs": [
    {
     "name": "stdout",
     "output_type": "stream",
     "text": [
      "transferring from s3\n",
      "2016-05-19\n",
      "2016-05-22 00:00:00\n"
     ]
    }
   ],
   "source": [
    "#latest date assumptions\n",
    "latest = pd.to_datetime(sql('''select max(created_at)::date   from users ''')['max'].values[0])\n",
    "last_signup = str(datetime.date.today() - datetime.timedelta(days=5))\n",
    "print last_signup\n",
    "print latest"
   ]
  },
  {
   "cell_type": "code",
   "execution_count": 10,
   "metadata": {
    "ExecuteTime": {
     "end_time": "2016-05-24T15:59:17.287941",
     "start_time": "2016-05-24T15:59:13.345286"
    },
    "_datascience": {},
    "code_folding": [
     0
    ],
    "collapsed": false
   },
   "outputs": [
    {
     "name": "stdout",
     "output_type": "stream",
     "text": [
      "file exists in cache\n",
      "(95136, 84)\n"
     ]
    }
   ],
   "source": [
    "# customer query CACHED\n",
    "\n",
    "#missing the acquisition channel\n",
    "query = \"\"\"\n",
    "WITH dur AS\n",
    "(\n",
    "  SELECT u.id,\n",
    "         u.completed_signup_at,\n",
    "         u.created_at,\n",
    "         u.current_sign_in_at,\n",
    "         u.current_sign_in_ip,\n",
    "         u.current_sign_in_platform,\n",
    "         u.delivery_day,\n",
    "         u.discovery,\n",
    "         u.email,\n",
    "         u.age,\n",
    "         u.experiment_data,\n",
    "         u.gender,\n",
    "         u.last_sign_in_at,\n",
    "         u.last_sign_in_ip,\n",
    "         u.last_sign_in_platform,\n",
    "         u.max_age,\n",
    "         u.min_age,\n",
    "         u.mobile_sign_in_at,\n",
    "         u.promotion_type,\n",
    "         u.provider,\n",
    "         u.servings,\n",
    "         u.sign_in_count,\n",
    "         u.signup_redemption_id,\n",
    "         u.web_sign_in_at,\n",
    "         u.weekly_meals,\n",
    "         u.zip_code_id,\n",
    "         c.first_cancellation,\n",
    "         c.last_cancellation,\n",
    "         c.last_renewal,\n",
    "         CASE\n",
    "           WHEN errors.delivery_error_count IS NULL THEN 0\n",
    "           ELSE errors.delivery_error_count\n",
    "         END AS delivery_error_count,\n",
    "         errors.last_delivery_error,\n",
    "         CASE WHEN date_diff('week', first_charge_date,  errors.first_delivery_error)=1 or date_diff('week', first_charge_date,  errors.first_delivery_error)=0 then 1 else 0 end as error_on_first_basket, \n",
    "         errors.last_error_type,\n",
    "         diet.allergies,\n",
    "         diet.dietary_restriction,\n",
    "         diet.dietary_preference,\n",
    "         CASE\n",
    "           WHEN c.renewal_count IS NULL THEN 0\n",
    "           ELSE c.renewal_count\n",
    "         END AS renewal_count,\n",
    "         CASE\n",
    "           WHEN s.skips_count IS NULL THEN 0\n",
    "           ELSE s.skips_count\n",
    "         END AS skips_count,\n",
    "         CASE WHEN date_diff('week', u.completed_signup_at, s.first_skip) = 0 THEN 1 ELSE 0 END AS first_week_skipper,\n",
    "         CASE WHEN date_diff('week', u.completed_signup_at, s.first_skip) > 3 THEN 1 ELSE 0 END AS late_skipper,\n",
    "         CASE\n",
    "           WHEN renewal_count > 0 THEN 1\n",
    "           ELSE 0\n",
    "         END AS is_returning,\n",
    "         CASE\n",
    "           WHEN last_cancellation IS NULL THEN date_diff ('week',completed_signup_at, '\"\"\"+str(latest)+\"\"\"'  )\n",
    "           WHEN last_renewal IS NOT NULL AND last_renewal >= last_cancellation THEN date_diff ('week',last_renewal, '\"\"\"+str(latest)+\"\"\"' )\n",
    "           WHEN last_renewal IS NOT NULL AND last_renewal < last_cancellation AND DATE_TRUNC('day',last_renewal) <> DATE_TRUNC('day',last_cancellation) THEN date_diff ('week',last_renewal,last_cancellation)\n",
    "           ELSE date_diff ('week',completed_signup_at,last_cancellation)\n",
    "         END AS weeks_duration,\n",
    "         CASE\n",
    "           WHEN last_cancellation IS NULL THEN 1\n",
    "           WHEN last_renewal IS NOT NULL AND last_renewal >= last_cancellation THEN 1\n",
    "           ELSE 0\n",
    "         END AS is_alive,\n",
    "         CASE\n",
    "           WHEN last_cancellation IS NULL THEN 0\n",
    "           WHEN last_cancellation IS NOT NULL AND last_renewal IS NULL AND date_diff ('day',last_cancellation, '\"\"\"+str(latest)+\"\"\"' ) > 40 THEN 1\n",
    "           WHEN last_cancellation IS NOT NULL AND last_renewal IS NOT NULL AND date_diff ('day',last_cancellation, '\"\"\"+str(latest)+\"\"\"' ) > 40 AND last_renewal <= last_cancellation THEN 1\n",
    "           ELSE 0\n",
    "         END AS is_churned,\n",
    "         number_of_discounts,\n",
    "         total_discount_amount,\n",
    "         last_discount_date,\n",
    "         first_discount_date,\n",
    "         discount_types,\n",
    "         CASE WHEN voucher_channel in ('Other promo','Youtube','Blog','Performance Bridge','Reddit','CJ','Mailer','Podcast','Referral (free box)','Instagram',\n",
    "              'Smart Perks','Outbrain','Retail','Pinterest','Insert') THEN 'Other' ELSE voucher_channel END as voucher_channel,\n",
    "         CASE\n",
    "           WHEN invitations.receiver_id IS NULL THEN 0\n",
    "           ELSE 1\n",
    "         END AS is_referral,\n",
    "         referals_sent,\n",
    "         referals_sent_accepted,\n",
    "         credit_total,\n",
    "         credit_deduct_total,\n",
    "         credit_count,\n",
    "         credit_deduct_count,\n",
    "         refund_count,\n",
    "         refund_total,\n",
    "         average_i_rating,\n",
    "         average_r_rating,\n",
    "         min_i_rating,\n",
    "         min_r_rating,\n",
    "         max_i_rating,\n",
    "         max_r_rating,\n",
    "         number_of_ratings,\n",
    "         last_r_rating,\n",
    "         last_i_rating,\n",
    "         first_r_rating,\n",
    "         first_i_rating,\n",
    "         CASE\n",
    "           WHEN optouts.user_id IS NULL THEN 0\n",
    "           ELSE 1\n",
    "         END AS email_opt_out,\n",
    "         CASE\n",
    "           WHEN add_on_count IS NULL THEN 0\n",
    "           ELSE add_on_count\n",
    "         END AS add_on_count,\n",
    "         add_on_meals,\n",
    "       last_charge_date,\n",
    "       first_charge_date,\n",
    "       avg_meal_rating,\n",
    "       req_cooking_spray,\n",
    "       req_ice,\n",
    "       req_olive_oil,\n",
    "       avg_difficulty_level,\n",
    "       avg_spice_level,\n",
    "       prep_avg,\n",
    "       avg_days_cook_by,\n",
    "       number_of_baskets\n",
    "  FROM users u\n",
    "    LEFT JOIN (SELECT cancellable_id,\n",
    "                      MIN(created_at) AS first_cancellation,\n",
    "                      MAX(created_at) AS last_cancellation,\n",
    "                      COUNT(reverted_at) AS renewal_count,\n",
    "                      MAX(reverted_at) AS last_renewal\n",
    "               FROM cancellations\n",
    "               WHERE cancellable_type = 'User'\n",
    "               GROUP BY 1) c ON u.id = c.cancellable_id\n",
    "    LEFT JOIN (SELECT w.user_id,\n",
    "                      SUM(t1.skips_count) AS skips_count,\n",
    "                      MIN(created_at) AS first_skip\n",
    "               FROM (SELECT cancellable_id,\n",
    "                            COUNT(created_at) AS skips_count\n",
    "                     FROM cancellations\n",
    "                     WHERE cancellable_type = 'WeeklyBasket'\n",
    "                     GROUP BY 1) t1\n",
    "                 JOIN weekly_baskets w ON w.id = t1.cancellable_id\n",
    "               GROUP BY 1) s ON u.id = s.user_id\n",
    "    LEFT JOIN (SELECT t2.user_id,\n",
    "                      t2.delivery_error_count,\n",
    "                      t2.last_delivery_error,\n",
    "                      t2.first_delivery_error,\n",
    "                      LISTAGG(t.name) AS last_error_type\n",
    "               FROM (SELECT u.id AS user_id,\n",
    "                            COUNT(*) AS delivery_error_count,\n",
    "                            MAX(reported_at) AS last_delivery_error,\n",
    "                            MIN(reported_at) AS first_delivery_error\n",
    "                     FROM users u\n",
    "                       JOIN delivery_errors d ON u.id = d.user_id\n",
    "                     GROUP BY 1) t2\n",
    "                 JOIN delivery_errors d\n",
    "                   ON t2.user_id = d.user_id\n",
    "                  AND d.reported_at = t2.last_delivery_error\n",
    "                 LEFT JOIN error_selections sel ON d.id = sel.delivery_error_id\n",
    "                 LEFT JOIN error_types t ON sel.error_type_id = t.id\n",
    "               GROUP BY 1,\n",
    "                        2,\n",
    "                        3, 4) errors ON u.id = errors.user_id\n",
    "    LEFT JOIN (SELECT u.id AS user_id,\n",
    "                      listagg(allergy_id,',') AS allergies,\n",
    "                      listagg(dietary_restriction_id,',') AS dietary_restriction,\n",
    "                      listagg(dietary_preference_id,',') AS dietary_preference\n",
    "               FROM users u\n",
    "                 LEFT OUTER JOIN allergy_selections sel ON u.id = sel.user_id\n",
    "                 LEFT OUTER JOIN dietary_restriction_selections sel2 ON u.id = sel2.user_id\n",
    "                 LEFT OUTER JOIN dietary_preference_selections sel3 ON u.id = sel3.user_id\n",
    "               WHERE u.completed_signup_at IS NOT NULL\n",
    "               GROUP BY 1) diet ON u.id = diet.user_id\n",
    "       LEFT JOIN (SELECT redeemer_id,\n",
    "                      COUNT(1) AS \"number_of_discounts\",\n",
    "                      SUM(amount_cents) AS \"total_discount_amount\",\n",
    "                      MAX(r.created_at) AS \"last_discount_date\",\n",
    "                      MIN(r.created_at) AS \"first_discount_date\",\n",
    "                      listagg(TYPE,',') AS \"discount_types\",\n",
    "                      listagg(m.condolidated_voucher, ',') as \"voucher_channel\"\n",
    "               FROM redemptions r\n",
    "                 LEFT JOIN vouchers ON vouchers.id = r.voucher_id\n",
    "                 LEFT JOIN ds_voucher_channel_map m ON trim(vouchers.code)=trim(m.voucher)\n",
    "               GROUP BY 1 ) redemptions ON redemptions.redeemer_id = u.id\n",
    "    LEFT JOIN (SELECT DISTINCT receiver_id\n",
    "               FROM invitations\n",
    "               WHERE accepted_at IS NOT NULL) invitations ON invitations.receiver_id = u.id\n",
    "  --invitations.receiver_id\n",
    "  \n",
    "    LEFT JOIN (SELECT sender_id,\n",
    "                      COUNT(1) AS referals_sent,\n",
    "                      SUM(CASE WHEN receiver_id IS NULL THEN 0 ELSE 1 END) AS referals_sent_accepted\n",
    "               FROM invitations\n",
    "               GROUP BY sender_id) inv_sent ON inv_sent.sender_id = u.id\n",
    "    LEFT JOIN (SELECT user_id,\n",
    "                      SUM(CASE WHEN amount_cents > 0 THEN 1 ELSE 0 END) AS credit_count,\n",
    "                      SUM(CASE WHEN amount_cents > 0 THEN amount_cents ELSE 0 END) AS credit_total,\n",
    "                      SUM(CASE WHEN amount_cents < 0 THEN 1 ELSE 0 END) AS credit_deduct_count,\n",
    "                      SUM(CASE WHEN amount_cents < 0 THEN amount_cents ELSE 0 END) AS credit_deduct_total\n",
    "               FROM credits\n",
    "               GROUP BY user_id) cr ON cr.user_id = u.id\n",
    "    LEFT JOIN (SELECT user_id,\n",
    "                      COUNT(1) AS refund_count,\n",
    "                      SUM(refunds.amount_cents) AS refund_total\n",
    "               FROM refunds\n",
    "                 LEFT JOIN charges ON refunds.charge_id = charges.id\n",
    "               GROUP BY user_id) AS refund ON refund.user_id = u.id\n",
    "    LEFT JOIN (SELECT user_id,\n",
    "                      MAX(created_at) AS last_charge_date,\n",
    "                      MIN(created_at) AS first_charge_date\n",
    "               FROM charges\n",
    "               GROUP BY user_id) AS last_charges ON last_charges.user_id = u.id\n",
    "    LEFT JOIN (WITH review_dates AS (SELECT user_id,\n",
    "                                            MIN(created_at) AS first_review_date,\n",
    "                                            MAX(created_at) AS last_review_date\n",
    "                                     FROM reviews\n",
    "                                     GROUP BY user_id)\n",
    "                                     SELECT reviews.user_id,\n",
    "                                            AVG(recipe_rating) AS average_r_rating,\n",
    "                                            AVG(ingredients_rating) AS average_i_rating,\n",
    "                                            MIN(recipe_rating) AS min_r_rating,\n",
    "                                            MAX(recipe_rating) AS max_r_rating,\n",
    "                                            MIN(ingredients_rating) AS min_i_rating,\n",
    "                                            MAX(ingredients_rating) AS max_i_rating,\n",
    "                                            COUNT(1) AS number_of_ratings,\n",
    "                                            MAX(CASE WHEN last_reviews.user_id IS NULL THEN NULL ELSE recipe_rating END) AS last_r_rating,\n",
    "                                            MAX(CASE WHEN last_reviews.user_id IS NULL THEN NULL ELSE ingredients_rating END) AS last_i_rating,\n",
    "                                            MAX(CASE WHEN first_reviews.user_id IS NULL THEN NULL ELSE recipe_rating END) AS first_r_rating,\n",
    "                                            MAX(CASE WHEN first_reviews.user_id IS NULL THEN NULL ELSE ingredients_rating END) AS first_i_rating\n",
    "                                     FROM reviews\n",
    "                                       LEFT JOIN review_dates AS first_reviews\n",
    "                                              ON first_reviews.user_id = reviews.user_id\n",
    "                                             AND reviews.created_at = first_reviews.first_review_date\n",
    "                                       LEFT JOIN review_dates AS last_reviews\n",
    "                                              ON last_reviews.user_id = reviews.user_id\n",
    "                                             AND reviews.created_at = last_reviews.last_review_date\n",
    "                                     GROUP BY reviews.user_id) AS review_data ON review_data.user_id = u.id\n",
    "    LEFT JOIN (SELECT DISTINCT user_id FROM mailkick_opt_outs) AS optouts ON optouts.user_id = u.id\n",
    "    LEFT JOIN (SELECT user_id,\n",
    "                      COUNT(1) AS add_on_count,\n",
    "                      listagg(name) AS add_on_meals\n",
    "               FROM meal_addon_selections\n",
    "                 LEFT JOIN meal_addons ON meal_addons.id = meal_addon_selections.meal_addon_id\n",
    "               GROUP BY user_id) addons ON addons.user_id = u.id\n",
    "    LEFT JOIN (SELECT user_id,               \n",
    "                 avg_meal_rating,\n",
    "                 req_cooking_spray,\n",
    "                 req_ice,\n",
    "                 req_olive_oil,\n",
    "                 avg_difficulty_level,\n",
    "                 avg_spice_level,\n",
    "                 prep_avg,\n",
    "                 avg_days_cook_by,\n",
    "                 number_of_baskets\n",
    "              FROM (SELECT wb.user_id,\n",
    "                       AVG((CASE WHEN prep = '5-10' THEN '5' WHEN prep IS NULL THEN NULL WHEN prep = '' THEN NULL ELSE LEFT (prep,2) END)::FLOAT) AS prep_avg,\n",
    "                       avg((CASE WHEN what_you_need LIKE '%Olive Oil%' THEN 1 ELSE 0 END)::float) AS req_olive_oil,\n",
    "                       avg((CASE WHEN what_you_need LIKE '%Ice%' THEN 1 ELSE 0 END)::float) AS req_ice,\n",
    "                       avg((CASE WHEN what_you_need LIKE '%Cooking Spray%' THEN 1 ELSE 0 END)::float) AS req_cooking_spray,\n",
    "                       AVG(difficulty_level::FLOAT) AS avg_difficulty_level,\n",
    "                       AVG(spice_level::FLOAT) AS avg_spice_level,\n",
    "                       AVG(meal_rating) AS avg_meal_rating,\n",
    "                       avg(days_cook_by) as avg_days_cook_by,\n",
    "                       count(1) as number_of_baskets\n",
    "                                                     \n",
    "                 FROM weekly_baskets AS wb\n",
    "                  LEFT JOIN meal_selections AS ms ON ms.weekly_basket_id = wb.id\n",
    "                  LEFT JOIN meals AS m ON m.id = ms.meal_id\n",
    "                  LEFT JOIN (SELECT meal_id,\n",
    "                                    AVG(recipe_rating) AS meal_rating\n",
    "                             FROM reviews\n",
    "                             GROUP BY meal_id) AS review_meals ON review_meals.meal_id = m.id\n",
    "                WHERE charge_cents IS NOT NULL\n",
    "                GROUP BY 1)) last_baskets ON last_baskets.user_id = u.id\n",
    "              \n",
    "  WHERE completed_signup_at IS NOT NULL\n",
    "  AND   completed_signup_at < '\"\"\"+str(last_signup)+\"\"\"'\n",
    ")\n",
    "SELECT * FROM dur \n",
    "LIMIT 100000\n",
    "\n",
    "\"\"\"\n",
    "df = sql(query)\n",
    "print df.shape"
   ]
  },
  {
   "cell_type": "code",
   "execution_count": 11,
   "metadata": {
    "ExecuteTime": {
     "end_time": "2016-05-24T15:59:18.313873",
     "start_time": "2016-05-24T15:59:17.289361"
    },
    "_datascience": {},
    "code_folding": [
     0
    ],
    "collapsed": false
   },
   "outputs": [
    {
     "name": "stdout",
     "output_type": "stream",
     "text": [
      "file exists in cache\n",
      "file exists in cache\n",
      "file exists in cache\n"
     ]
    }
   ],
   "source": [
    "#Build Constants\n",
    "EXPERIMENT_TYPES = list(set(flatten([ast.literal_eval(i).keys() for i in df.experiment_data.values if i != ''])))\n",
    "LAST_POSSIBLE_SIGN_IN_DATE = df.last_sign_in_at.max()\n",
    "ADDONS = ['Fruit Basket','Smoothie','Breakfast','Premium Meal']\n",
    "DISCOUNT_TYPES = ['FlatDiscount','UserReferral','FreeBox','EmployeeGift','ZumbaReferral','PercentDiscount','Gift','AffiliateReferral']\n",
    "VOUCHER_TYPES = ['Facebook','Google','RetailMeNot','Promo Email','Bing/Yahoo', 'Other']\n",
    "DAYS_OF_WEEK = ['Friday','Thursday','Wednesday','Tuesday']\n",
    "DISCOVERY_SOURCES = ['Facebook','Friend','Google / Yahoo / Bing','Other']\n",
    "DIETARY_PREFERENCES = sql('select distinct id from dietary_preferences')['id'].values.tolist()\n",
    "DIETARY_RESTRICTIONS = sql('select distinct id from dietary_restrictions')['id'].values.tolist()\n",
    "ALLERGIES = sql('select distinct id from allergies')['id'].values.tolist()\n",
    "EMAILS = ['gmail', 'yahoo', 'hotmail', 'aol', 'edu', '.net']"
   ]
  },
  {
   "cell_type": "code",
   "execution_count": 12,
   "metadata": {
    "ExecuteTime": {
     "end_time": "2016-05-24T15:59:18.325211",
     "start_time": "2016-05-24T15:59:18.315136"
    },
    "_datascience": {},
    "code_folding": [
     0
    ],
    "collapsed": false
   },
   "outputs": [
    {
     "name": "stdout",
     "output_type": "stream",
     "text": [
      "file exists in cache\n",
      "file exists in cache\n",
      "file exists in cache\n"
     ]
    }
   ],
   "source": [
    "#Build Maps\n",
    "dietary_preferences_map = sql('select id, name from dietary_preferences').set_index('id')['name'].to_dict()\n",
    "dietary_restrictions_map = sql('select id, name from dietary_restrictions').set_index('id')['name'].to_dict()\n",
    "allergies_map = sql('select id, name from allergies').set_index('id')['name'].to_dict()"
   ]
  },
  {
   "cell_type": "code",
   "execution_count": 13,
   "metadata": {
    "ExecuteTime": {
     "end_time": "2016-05-24T15:59:18.337894",
     "start_time": "2016-05-24T15:59:18.326536"
    },
    "_datascience": {},
    "code_folding": [
     0
    ],
    "collapsed": true
   },
   "outputs": [],
   "source": [
    "#Transformation Pipeline\n",
    "def buildPipelineProcess(df, newFeatures, subset=None, overwrite=True, verbose = False):\n",
    "    '''newFeatures: dictionary of:\n",
    "            key: new column name\n",
    "            value: function that operates on single rows of the dataframe\n",
    "    '''\n",
    "    if subset== None:\n",
    "        subset = newFeatures.keys()\n",
    "    counter = 0\n",
    "    p = ProgressBar(len(newFeatures))\n",
    "    for newFeature in newFeatures:\n",
    "        if newFeature in subset:\n",
    "            if verbose:\n",
    "                print newFeature\n",
    "            else:\n",
    "                p.animate(counter)\n",
    "                counter += 1             \n",
    "            if overwrite == True or newFeature not in df.columns.values:  \n",
    "                func = newFeatures[newFeature]['func']\n",
    "                kwargs = newFeatures[newFeature]['kwargs']  if 'kwargs' in newFeatures[newFeature].keys() else {}\n",
    "                column = newFeatures[newFeature]['column'] if 'column' in newFeatures[newFeature].keys() else ''\n",
    "                dataStructure = newFeatures[newFeature]['type']\n",
    "                if dataStructure == 'dataframe':\n",
    "                    df[newFeature] = df.apply(lambda x: func(x, **kwargs),axis = 1)\n",
    "                elif dataStructure == 'series':\n",
    "                    try:\n",
    "                        df[newFeature] = df[column].apply(lambda x: func(x, **kwargs))\n",
    "                    except KeyError:\n",
    "                        raise KeyError(\"Did you mean to use a dataframe structure? You didnt pass a column\")\n",
    "    return df"
   ]
  },
  {
   "cell_type": "code",
   "execution_count": 14,
   "metadata": {
    "ExecuteTime": {
     "end_time": "2016-05-24T15:59:18.412414",
     "start_time": "2016-05-24T15:59:18.340065"
    },
    "_datascience": {},
    "code_folding": [
     0
    ],
    "collapsed": true
   },
   "outputs": [],
   "source": [
    "#Build new features\n",
    "domain = []\n",
    "\n",
    "buildPipeline = { \n",
    "    # key: new column name\n",
    "    # func: function to be applied\n",
    "    # column: if type == series, which column to apply function to?\n",
    "    #type: do we apply function to dataframe or single column?\n",
    "    #kwargs: kwargs for func\n",
    "    'daysSinceLastSignIn': {'func':daysSinceLastPossible,'column':'last_sign_in_at','type':'series'},\n",
    "    'lastSignInOnWeb': {'func':platformWeb,'column':'last_sign_in_platform','type':'series'},\n",
    "    'lastSignInOnMobile': {'func':platformMobile,'column':'last_sign_in_platform','type':'series'},\n",
    "    'hasPromotion' : {'func':nonNull,'column':'promotion_type','type':'series'},\n",
    "    'signInsPerWeek' : {'func':signInsPerWeek,'type':'dataframe'},\n",
    "    'emailDomain' : {'func':emailDomain,'column':'email','type':'series'},\n",
    "    'promotion_type' : {'func':emptyStringToNull,'column':'promotion_type','type':'series'},\n",
    "    'discovery' : {'func':emptyStringToNull, 'column':'discovery', 'type':'series'},\n",
    "    'refund_total':{'func':fillna, 'column':'refund_total', 'type':'series'},\n",
    "    'refund_count':{'func':fillna, 'column':'refund_count', 'type':'series'},\n",
    "    'remaining_credit': {'func': remainingCredit,'type':'dataframe'},\n",
    "    'has_remaining_credit' : {'func':hasRemainingCredit,'type':'dataframe'},\n",
    "    'referals_sent':{'func':fillna, 'column':'referals_sent', 'type':'series'},\n",
    "    'referals_sent_accepted':{'func':fillna, 'column':'referals_sent_accepted', 'type':'series'},\n",
    "    'time_to_first_discount': {'func': timeToFirstDiscount, 'type':'dataframe'},\n",
    "    'has_discovery' : {'func': nonNull, 'type':'series','column':'discovery'},\n",
    "    'total_discount_amount':{'func':fillna, 'column':'total_discount_amount', 'type':'series'},\n",
    "    'number_of_discounts':{'func':fillna, 'column':'number_of_discounts', 'type':'series'},\n",
    "    'discounts_amt_per_week':{'func':perWeek, 'type':'dataframe', 'kwargs': {'column':'total_discount_amount'}},\n",
    "    'discounts_per_week':{'func':perWeek, 'type':'dataframe', 'kwargs': {'column':'number_of_discounts'}},\n",
    "    'refunds_per_week':{'func':perWeek, 'type':'dataframe', 'kwargs': {'column':'refund_total'}},\n",
    "    'skips_per_week': {'func':perWeek, 'type':'dataframe', 'kwargs': {'column':'skips_count'}},\n",
    "    'renewals_per_week': {'func':perWeek, 'type':'dataframe', 'kwargs': {'column':'renewal_count'}},\n",
    "    'errors_per_week': {'func':perWeek, 'type':'dataframe', 'kwargs': {'column':'delivery_error_count'}},\n",
    "    'average_r_rating' : {'func':fillna, 'type':'series','column':'average_r_rating', 'kwargs': {'with_value':df['average_r_rating'].mean()}},\n",
    "    'average_i_rating' : {'func':fillna, 'type':'series','column':'average_i_rating', 'kwargs': {'with_value':df['average_i_rating'].mean()}}\n",
    "    }\n",
    "\n",
    "for add_on in ADDONS: \n",
    "    buildPipeline['add_on_'+add_on] = {'func':splitStringContains, 'column':'add_on_meals', 'type':'series', 'kwargs':{'String':add_on}}\n",
    "    domain.append('add_on_'+add_on)\n",
    "for day in DAYS_OF_WEEK: \n",
    "    buildPipeline['deliver_day_'+day] = {'func':splitStringContains, 'column':'delivery_day', 'type':'series', 'kwargs':{'String':day}}\n",
    "    domain.append('deliver_day_'+day)\n",
    "for discount in DISCOUNT_TYPES: \n",
    "    buildPipeline['discount_'+discount] = {'func':countInstances, 'column':'discount_types', 'type':'series', 'kwargs':{'String':discount}}\n",
    "    domain.append('discount_'+discount)\n",
    "for source in DISCOVERY_SOURCES: \n",
    "    buildPipeline['discovery_'+source] = {'func':splitStringContains, 'column':'discovery', 'type':'series', 'kwargs':{'String':source}}\n",
    "    domain.append('discovery_'+source)    \n",
    "for experiment in EXPERIMENT_TYPES:\n",
    "    buildPipeline['experiment_'+experiment] = {'func':getDictVal, 'column':'experiment_data', 'type':'series','kwargs':{'key':experiment} }\n",
    "    domain.append('experiment_'+experiment)\n",
    "for preference in DIETARY_PREFERENCES:\n",
    "    buildPipeline['dietary_preference_'+dietary_preferences_map[preference]] = {'func':splitStringContains, 'column':'dietary_preference', 'type':'series','kwargs':{'String':str(preference)} }\n",
    "    domain.append('dietary_preference_'+dietary_preferences_map[preference])\n",
    "for restriction in DIETARY_RESTRICTIONS:\n",
    "    buildPipeline['dietary_restriction_'+dietary_restrictions_map[restriction]] = {'func':splitStringContains, 'column':'dietary_restriction', 'type':'series','kwargs':{'String':str(restriction)} }\n",
    "    domain.append('dietary_restriction_'+dietary_restrictions_map[restriction])\n",
    "for allergy in ALLERGIES:\n",
    "    buildPipeline['allergy_'+allergies_map[allergy]] = {'func':splitStringContains, 'column':'allergies', 'type':'series','kwargs':{'String':str(allergy)} }\n",
    "    domain.append('allergy_'+allergies_map[allergy])\n",
    "for voucher in VOUCHER_TYPES:\n",
    "    buildPipeline['voucher_'+voucher] = {'func':splitStringContains, 'column':'voucher_channel', 'type':'series','kwargs':{'String':str(voucher)} }\n",
    "    domain.append('voucher_'+voucher)\n",
    "    \n",
    "# Features with no transformations required\n",
    "domain.append('first_week_skipper')\n",
    "domain.append('late_skipper')\n",
    "domain.append('error_on_first_basket')"
   ]
  },
  {
   "cell_type": "code",
   "execution_count": 15,
   "metadata": {
    "ExecuteTime": {
     "end_time": "2016-05-24T16:00:46.853000",
     "start_time": "2016-05-24T15:59:18.413474"
    },
    "_datascience": {},
    "code_folding": [
     0
    ],
    "collapsed": false
   },
   "outputs": [
    {
     "name": "stdout",
     "output_type": "stream",
     "text": [
      "[*****************99%******************]  88 of 89 complete\n"
     ]
    },
    {
     "name": "stderr",
     "output_type": "stream",
     "text": [
      "/usr/local/lib/python2.7/dist-packages/ipykernel/__main__.py:5: SettingWithCopyWarning: \n",
      "A value is trying to be set on a copy of a slice from a DataFrame\n",
      "\n",
      "See the caveats in the documentation: http://pandas.pydata.org/pandas-docs/stable/indexing.html#indexing-view-versus-copy\n"
     ]
    }
   ],
   "source": [
    "#build features (takes a while until we can pickle the dataset properly)\n",
    "df = buildPipelineProcess(df, buildPipeline, overwrite=True, verbose=False)\n",
    "for e in EMAILS:\n",
    "    df['is_'+e] = 0\n",
    "    df['is_'+e] [df.emailDomain.apply(lambda x: e in x)] = 1\n",
    "    domain.append('is_'+e)"
   ]
  },
  {
   "cell_type": "code",
   "execution_count": 16,
   "metadata": {
    "ExecuteTime": {
     "end_time": "2016-05-24T16:00:47.063498",
     "start_time": "2016-05-24T16:00:46.854607"
    },
    "_datascience": {},
    "code_folding": [
     0
    ],
    "collapsed": true
   },
   "outputs": [],
   "source": [
    "#adjust time since last cancellation date\n",
    "df['time_since_last_cancellation_date'] = (df.last_cancellation.max() - df.last_cancellation).apply(lambda x: x / np.timedelta64(1,'D'))"
   ]
  },
  {
   "cell_type": "code",
   "execution_count": 17,
   "metadata": {
    "ExecuteTime": {
     "end_time": "2016-05-24T16:00:47.279282",
     "start_time": "2016-05-24T16:00:47.064556"
    },
    "_datascience": {},
    "code_folding": [
     0
    ],
    "collapsed": false
   },
   "outputs": [
    {
     "name": "stderr",
     "output_type": "stream",
     "text": [
      "/usr/local/lib/python2.7/dist-packages/ipykernel/__main__.py:3: FutureWarning: sort(columns=....) is deprecated, use sort_values(by=.....)\n",
      "  app.launch_new_instance()\n"
     ]
    }
   ],
   "source": [
    "#calculate day number\n",
    "df['t'] = df.completed_signup_at.apply(lambda x: (x.year, x.month, x.day))\n",
    "unique_dates = pd.DataFrame(pd.Series(list(set(df.t)))).sort(0)\n",
    "unique_dates = unique_dates.reset_index().drop('index', 1).reset_index().set_index(0)['index']\n",
    "sorted_t = unique_dates.to_dict()\n",
    "df['t_'] = df.t.map(sorted_t)"
   ]
  },
  {
   "cell_type": "code",
   "execution_count": 18,
   "metadata": {
    "ExecuteTime": {
     "end_time": "2016-05-24T16:00:47.814631",
     "start_time": "2016-05-24T16:00:47.282210"
    },
    "_datascience": {},
    "code_folding": [
     0
    ],
    "collapsed": true
   },
   "outputs": [],
   "source": [
    "#outlier pruning\n",
    "df_clean = remove_outliers(df, 'refunds_per_week')\n",
    "df_clean = remove_outliers(df_clean, 'referals_sent')\n",
    "df_clean = remove_outliers(df_clean, 'total_discount_amount')\n",
    "df_clean = remove_outliers(df_clean, 'remaining_credit')"
   ]
  },
  {
   "cell_type": "code",
   "execution_count": 19,
   "metadata": {
    "ExecuteTime": {
     "end_time": "2016-05-24T16:00:48.262610",
     "start_time": "2016-05-24T16:00:47.815731"
    },
    "_datascience": {},
    "code_folding": [
     0
    ],
    "collapsed": false
   },
   "outputs": [
    {
     "name": "stderr",
     "output_type": "stream",
     "text": [
      "/usr/local/lib/python2.7/dist-packages/ipykernel/__main__.py:5: FutureWarning: sort(columns=....) is deprecated, use sort_values(by=.....)\n"
     ]
    }
   ],
   "source": [
    "#cleaning steps\n",
    "df_clean['time_since_last_cancellation_date'] = (df_clean.last_cancellation.max() - df_clean.last_cancellation).apply(lambda x: x / np.timedelta64(1,'D'))\n",
    "#calculate day number\n",
    "df_clean['t'] = df_clean.completed_signup_at.apply(lambda x: (x.year, x.month, x.day))\n",
    "unique_dates = pd.DataFrame(pd.Series(list(set(df_clean.t)))).sort(0)\n",
    "unique_dates = unique_dates.reset_index().drop('index', 1).reset_index().set_index(0)['index']\n",
    "sorted_t = unique_dates.to_dict()\n",
    "df_clean['t_'] = df_clean.t.map(sorted_t)"
   ]
  },
  {
   "cell_type": "code",
   "execution_count": 20,
   "metadata": {
    "ExecuteTime": {
     "end_time": "2016-05-24T16:00:52.400846",
     "start_time": "2016-05-24T16:00:48.264742"
    },
    "_datascience": {},
    "code_folding": [
     0
    ],
    "collapsed": false
   },
   "outputs": [
    {
     "name": "stderr",
     "output_type": "stream",
     "text": [
      "/usr/local/lib/python2.7/dist-packages/ipykernel/__main__.py:6: FutureWarning: sort(columns=....) is deprecated, use sort_values(by=.....)\n",
      "/usr/local/lib/python2.7/dist-packages/ipykernel/__main__.py:13: FutureWarning: sort(columns=....) is deprecated, use sort_values(by=.....)\n"
     ]
    },
    {
     "name": "stdout",
     "output_type": "stream",
     "text": [
      "                          t_\n",
      "hasPromotion       -0.309976\n",
      "discovery_Facebook  0.325544\n",
      "req_cooking_spray   0.412907\n",
      "has_discovery       0.559217\n",
      "                    time_since_last_cancellation_date\n",
      "has_discovery                               -0.401366\n",
      "req_cooking_spray                           -0.314508\n",
      "discovery_Facebook                          -0.263423\n",
      "discovery_Friend                            -0.234950\n",
      "req_olive_oil                               -0.207593\n",
      "hasPromotion                                 0.202003\n",
      "email_opt_out                                0.248314\n",
      "avg_spice_level                              0.325463\n"
     ]
    }
   ],
   "source": [
    "#Bias Detection\n",
    "def get_biased_columns(dat):\n",
    "    biased_columns = []\n",
    "\n",
    "    #Features related to sign up date\n",
    "    signup_corrs = pd.DataFrame(dat.corr().loc['t_'][hazards_domain]).sort('t_').dropna()\n",
    "    signup_corrs = signup_corrs[signup_corrs['t_'].apply(lambda x: abs(x) > .3)]\n",
    "    print signup_corrs\n",
    "    for col in signup_corrs.index.values:\n",
    "        biased_columns.append(col)\n",
    "\n",
    "    #Features related to time since inactive\n",
    "    elapsed_cancel_corrs= pd.DataFrame(dat[dat.last_cancellation.isnull()==False].corr().loc['time_since_last_cancellation_date'][hazards_domain]).sort('time_since_last_cancellation_date').dropna()\n",
    "    elapsed_cancel_corrs = elapsed_cancel_corrs[elapsed_cancel_corrs['time_since_last_cancellation_date'].apply(lambda x: abs(x)) > .2]\n",
    "    print elapsed_cancel_corrs\n",
    "\n",
    "    for col in elapsed_cancel_corrs.index.values:\n",
    "        biased_columns.append(col)\n",
    "\n",
    "    biased_columns = list(set(biased_columns))\n",
    "    return biased_columns\n",
    "\n",
    "\n",
    "hazards_domain_no_bias = list(set(hazards_domain) - set(get_biased_columns(df_clean))) #use this as domain"
   ]
  },
  {
   "cell_type": "code",
   "execution_count": 21,
   "metadata": {
    "ExecuteTime": {
     "end_time": "2016-05-24T16:00:54.617656",
     "start_time": "2016-05-24T16:00:52.401996"
    },
    "_datascience": {},
    "code_folding": [
     0
    ],
    "collapsed": false
   },
   "outputs": [
    {
     "name": "stderr",
     "output_type": "stream",
     "text": [
      "/usr/local/lib/python2.7/dist-packages/ipykernel/__main__.py:128: FutureWarning: sort(columns=....) is deprecated, use sort_values(by=.....)\n"
     ]
    }
   ],
   "source": [
    "#find constant columns\n",
    "almost_constant_cols = findNearlyConstantColumns(df_clean).index.values"
   ]
  },
  {
   "cell_type": "code",
   "execution_count": 22,
   "metadata": {
    "ExecuteTime": {
     "end_time": "2016-05-24T16:00:58.514158",
     "start_time": "2016-05-24T16:00:54.619450"
    },
    "_datascience": {},
    "code_folding": [],
    "collapsed": true
   },
   "outputs": [],
   "source": [
    "#train testing split and filtering \n",
    "tvt=np.array([.7,.15, .15])\n",
    "LAST_DATE = df_clean.completed_signup_at.max()\n",
    "\n",
    "df_clean['is_recent'] = (df_clean.last_charge_date.max() - df_clean.last_charge_date) < np.timedelta64(3, 'M')\n",
    "df_clean['designation'] = df_clean.id.apply(lambda x: np.random.choice(['train','validate','test'], p = tvt, size = 1)[0])\n",
    "df_clean['is_dead'] = 1 - df_clean.is_alive\n",
    "df_clean['churn_possible'] = df_clean.completed_signup_at.apply(lambda x: x < LAST_DATE - np.timedelta64(40, 'D'))\n",
    "\n",
    "modeling_data = df_clean[df_clean.churn_possible]\n",
    "hazard_cols = copy(hazards_domain_no_bias)\n",
    "hazard_cols.append('number_of_baskets')\n",
    "hazard_cols.append('is_churned')\n",
    "hazard_cols = list(set(hazard_cols) - set(almost_constant_cols))\n",
    "\n",
    "modeling_data = modeling_data.dropna(subset=hazard_cols)"
   ]
  },
  {
   "cell_type": "code",
   "execution_count": 23,
   "metadata": {
    "ExecuteTime": {
     "end_time": "2016-05-24T16:01:03.621475",
     "start_time": "2016-05-24T16:00:58.515585"
    },
    "_datascience": {},
    "code_folding": [
     0
    ],
    "collapsed": true
   },
   "outputs": [],
   "source": [
    "#Find null values\n",
    "null_mean_dict = {}\n",
    "for col in hazard_cols:\n",
    "    d = df_clean[df_clean[col].isnull()==False][col]\n",
    "    null = 1 - (len(d) / float(len(df)))\n",
    "    mean = d.mean()\n",
    "    null_mean_dict[col] = [null, mean]\n",
    "null_mean = pd.DataFrame.from_dict(null_mean_dict, orient='index')\n",
    "null_mean.columns = ['percent_null', 'mean']"
   ]
  },
  {
   "cell_type": "code",
   "execution_count": 24,
   "metadata": {
    "ExecuteTime": {
     "end_time": "2016-05-24T16:01:04.149599",
     "start_time": "2016-05-24T16:01:03.623618"
    },
    "_datascience": {},
    "code_folding": [
     0
    ],
    "collapsed": false
   },
   "outputs": [
    {
     "name": "stderr",
     "output_type": "stream",
     "text": [
      "/usr/local/lib/python2.7/dist-packages/ipykernel/__main__.py:6: FutureWarning: sort(columns=....) is deprecated, use sort_values(by=.....)\n"
     ]
    }
   ],
   "source": [
    "#identify collinear columns \n",
    "#multicollinearity\n",
    "\n",
    "corrs = pd.DataFrame(modeling_data[hazard_cols].corr().unstack()).reset_index()\n",
    "corrs = corrs[corrs.level_0 != corrs.level_1]\n",
    "corrs = corrs[corrs[0].apply(lambda x: abs(x) > .6)].sort(0)\n",
    "# if len(corrs) >0:\n",
    "#     print corrs"
   ]
  },
  {
   "cell_type": "code",
   "execution_count": 25,
   "metadata": {
    "ExecuteTime": {
     "end_time": "2016-05-24T16:01:04.794247",
     "start_time": "2016-05-24T16:01:04.151230"
    },
    "_datascience": {},
    "code_folding": [
     0
    ],
    "collapsed": true
   },
   "outputs": [],
   "source": [
    "# normalize modeling data\n",
    "modeling_data_normalized = modeling_data.copy()\n",
    "for col in hazards_domain:\n",
    "    modeling_data_normalized[col] = (modeling_data_normalized[col] - modeling_data_normalized[col].mean()) / modeling_data_normalized[col].std()\n",
    "    "
   ]
  },
  {
   "cell_type": "code",
   "execution_count": 26,
   "metadata": {
    "ExecuteTime": {
     "end_time": "2016-05-24T16:01:04.821858",
     "start_time": "2016-05-24T16:01:04.796482"
    },
    "_datascience": {},
    "code_folding": [
     0
    ],
    "collapsed": false
   },
   "outputs": [],
   "source": [
    "#additional utility functions\n",
    "def highlight_bar(l,feature):\n",
    "    #go through list and return a color object that \n",
    "    colors = []\n",
    "    for item in l.index:\n",
    "        if item == pretty_feature_names[feature]:\n",
    "            #different color\n",
    "            colors.append(palette[5])\n",
    "        else:\n",
    "            colors.append(palette[0])\n",
    "            \n",
    "    return colors\n",
    "\n",
    "def change_bins(rng,div):\n",
    "    if div == 0:\n",
    "        print \"divide by 0 error\"\n",
    "        val = None\n",
    "    else:\n",
    "        val = [x/float(div) for x in range(rng)]\n",
    "    return val\n",
    "def bins_suggestion(dat):\n",
    "    n = len(dat)\n",
    "    s = math.sqrt((6*(n-2))/float((n+1)*(n+3)))\n",
    "    g = abs(skew(dat))\n",
    "    b = math.ceil(1+math.log(n,2)+math.log(1+(g/s),2))\n",
    "    return b\n",
    "def cur_transf(f):\n",
    "    currency_features = ['total_discount_amount',\n",
    "                         'credit_total',\n",
    "                         'credit_deduct_total',\n",
    "                         'discounts_amt_per_week',\n",
    "                         'refund_total']\n",
    "    if f in currency_features:\n",
    "        val = True\n",
    "    else:\n",
    "        val = False\n",
    "        \n",
    "    return val\n",
    "\n",
    "def plot_type(dat):\n",
    "    cardinality = len(np.unique(dat))\n",
    "    if cardinality == 2:\n",
    "        val = 'bar'\n",
    "    else:\n",
    "        val = 'line'\n",
    "    return val\n",
    "    "
   ]
  },
  {
   "cell_type": "code",
   "execution_count": 28,
   "metadata": {
    "ExecuteTime": {
     "end_time": "2016-05-24T16:01:14.671994",
     "start_time": "2016-05-24T16:01:14.666269"
    },
    "_datascience": {},
    "code_folding": [],
    "collapsed": false,
    "scrolled": false
   },
   "outputs": [
    {
     "name": "stdout",
     "output_type": "stream",
     "text": [
      "List of Features to Choose from:\n",
      "\n",
      "0 Description: Add-On: Breakfast, DB Name: add_on_Breakfast\n",
      "1 Description: Add-on: Fruit Basket, DB Name: add_on_Fruit Basket\n",
      "2 Description: Add-On: Premium Meal, DB Name: add_on_Premium Meal\n",
      "3 Description: Add On: Smoothie, DB Name: add_on_Smoothie\n",
      "4 Description: Number of Add-Ons, DB Name: add_on_count\n",
      "5 Description: Allergy: Dairy, DB Name: allergy_Dairy\n",
      "6 Description: Allergy: Gluten, DB Name: allergy_Gluten\n",
      "7 Description: Allergy: Mushrooms, DB Name: allergy_Mushrooms\n",
      "8 Description: Allergy: Nuts, DB Name: allergy_Nuts\n",
      "9 Description: Allergy: Pork, DB Name: allergy_Pork\n",
      "10 Description: Allergy: Red Meat, DB Name: allergy_Red Meat\n",
      "11 Description: Allergy: Shellfish, DB Name: allergy_Shellfish\n",
      "12 Description: Allergy: Soy, DB Name: allergy_Soy\n",
      "13 Description: Average Recipe Rating, DB Name: average_r_rating\n",
      "14 Description: Average Days Cook By, DB Name: avg_days_cook_by\n",
      "15 Description: Average Recipe Difficulty, DB Name: avg_difficulty_level\n",
      "16 Description: Average Meal Rating, DB Name: avg_meal_rating\n",
      "17 Description: Delivery Day: Friday, DB Name: deliver_day_Friday\n",
      "18 Description: Delivery Day: Thursday, DB Name: deliver_day_Thursday\n",
      "19 Description: Delivery Day: Tuesday, DB Name: deliver_day_Tuesday\n",
      "20 Description: Delivery Day: Wednesday, DB Name: deliver_day_Wednesday\n",
      "21 Description: Dietary: Low-Calorie, DB Name: dietary_preference_Low-calorie\n",
      "22 Description: Dietary Preference: Low-Carb, DB Name: dietary_preference_Low-carb\n",
      "23 Description: Dietary Restriction: Meat/Seafood Only, DB Name: dietary_restriction_Meat & seafood only\n",
      "24 Description: Dietary Restriction: Meat Only, DB Name: dietary_restriction_Meat only\n",
      "25 Description: Dietary Restriction: Omnivore, DB Name: dietary_restriction_Omnivore\n",
      "26 Description: Dietary Restriction: Pescatarian, DB Name: dietary_restriction_Pescatarian\n",
      "27 Description: Dietary Restriction: Vegetarian, DB Name: dietary_restriction_Vegetarian\n",
      "28 Description: Delivery Error on First Basket, DB Name: error_on_first_basket\n",
      "29 Description: Skipped First Week, DB Name: first_week_skipper\n",
      "30 Description: Positive Credit, DB Name: has_remaining_credit\n",
      "31 Description: Email: .net, DB Name: is_.net\n",
      "32 Description: Email: AOL, DB Name: is_aol\n",
      "33 Description: Email: .edu, DB Name: is_edu\n",
      "34 Description: Email: gmail, DB Name: is_gmail\n",
      "35 Description: Email: hotmail, DB Name: is_hotmail\n",
      "36 Description: User was Referred, DB Name: is_referral\n",
      "37 Description: Returning User (previous pause), DB Name: is_returning\n",
      "38 Description: Email: yahoo, DB Name: is_yahoo\n",
      "39 Description: Last Sign on Mobile, DB Name: lastSignInOnMobile\n",
      "40 Description: Late Skipper, DB Name: late_skipper\n",
      "41 Description: Average Meal Prep Time, DB Name: prep_avg\n",
      "42 Description: Referred Friends, DB Name: referals_sent\n",
      "43 Description: Accepted Referrals, DB Name: referals_sent_accepted\n",
      "44 Description: Refund Amount per Week, DB Name: refunds_per_week\n",
      "45 Description: Credit Balance, DB Name: remaining_credit\n",
      "46 Description: Proportion of Meals Rerquires Ice, DB Name: req_ice\n",
      "47 Description: Number of Servings, DB Name: servings\n",
      "48 Description: Sign-Ins per Week, DB Name: signInsPerWeek\n",
      "49 Description: Skips per Week, DB Name: skips_per_week\n",
      "50 Description: Total Discount Amount, DB Name: total_discount_amount\n",
      "51 Description: Voucher: Yahoo, DB Name: voucher_Bing/Yahoo\n",
      "52 Description: Voucher: Facebook, DB Name: voucher_Facebook\n",
      "53 Description: Voucher: Google, DB Name: voucher_Google\n",
      "54 Description: Voucher: Other, DB Name: voucher_Other\n",
      "55 Description: Voucher: Promo Email, DB Name: voucher_Promo Email\n",
      "56 Description: Voucher: RetailMeNot, DB Name: voucher_RetailMeNot\n",
      "57 Description: Number of Meals per Week, DB Name: weekly_meals\n"
     ]
    }
   ],
   "source": [
    "#adjust hazards_domain\n",
    "hazards_domain = copy(hazard_cols) # Removed biased and almost constant columns. Correlated cols ARE NOT excluded\n",
    "hazards_domain.remove('number_of_baskets')\n",
    "hazards_domain.remove('is_churned')\n",
    "# hazard_cols.remove(\"renewals_per_week\")\n",
    "\n",
    "print \"List of Features to Choose from:\\n\"\n",
    "for i,h in enumerate(sorted(hazards_domain)):\n",
    "    print \"%i Description: %s, DB Name: %s\"%(i,pretty_feature_names[h],h)"
   ]
  },
  {
   "cell_type": "code",
   "execution_count": 29,
   "metadata": {
    "ExecuteTime": {
     "end_time": "2016-05-24T16:01:31.468116",
     "start_time": "2016-05-24T16:01:22.215027"
    },
    "_datascience": {},
    "code_folding": [],
    "collapsed": false
   },
   "outputs": [
    {
     "name": "stdout",
     "output_type": "stream",
     "text": [
      "file exists in cache\n"
     ]
    }
   ],
   "source": [
    "#attempt to read in modeling data\n",
    "modeling_data = read_obj_from_cache(\"modeling_data.csv\",\"churn_modeling_data\")"
   ]
  },
  {
   "cell_type": "code",
   "execution_count": 30,
   "metadata": {
    "ExecuteTime": {
     "end_time": "2016-05-24T16:01:31.688548",
     "start_time": "2016-05-24T16:01:31.469164"
    },
    "_datascience": {},
    "code_folding": [],
    "collapsed": true
   },
   "outputs": [],
   "source": [
    "# train/test segment\n",
    "train = modeling_data[modeling_data.designation=='train']\n",
    "validate = modeling_data[modeling_data.designation=='validate']\n",
    "test = modeling_data[modeling_data.designation=='test']\n",
    "\n",
    "train_norm = modeling_data_normalized[modeling_data_normalized.designation=='train']\n",
    "validate_norm = modeling_data_normalized[modeling_data_normalized.designation=='validate']\n",
    "test_norm = modeling_data_normalized[modeling_data_normalized.designation=='test']"
   ]
  },
  {
   "cell_type": "code",
   "execution_count": 31,
   "metadata": {
    "ExecuteTime": {
     "end_time": "2016-05-24T16:01:31.692625",
     "start_time": "2016-05-24T16:01:31.689784"
    },
    "_datascience": {},
    "collapsed": true
   },
   "outputs": [],
   "source": [
    "#put the number of the feature you're interested in here\n",
    "num = 16"
   ]
  },
  {
   "cell_type": "code",
   "execution_count": 32,
   "metadata": {
    "ExecuteTime": {
     "end_time": "2016-05-24T16:01:37.718747",
     "start_time": "2016-05-24T16:01:37.715103"
    },
    "_datascience": {},
    "code_folding": [
     0
    ],
    "collapsed": false
   },
   "outputs": [
    {
     "name": "stdout",
     "output_type": "stream",
     "text": [
      "Feature Selected: Average Meal Rating\n"
     ]
    }
   ],
   "source": [
    "#choose a feature from hazards_domain from the above list to produce a churn report\n",
    "feature = sorted(hazards_domain)[num]\n",
    "print \"Feature Selected: %s\"%pretty_feature_names[feature]\n",
    "currency_transform = cur_transf(feature)"
   ]
  },
  {
   "cell_type": "code",
   "execution_count": 33,
   "metadata": {
    "ExecuteTime": {
     "end_time": "2016-05-24T16:02:12.963448",
     "start_time": "2016-05-24T16:01:38.787001"
    },
    "_datascience": {},
    "code_folding": [],
    "collapsed": false
   },
   "outputs": [
    {
     "name": "stdout",
     "output_type": "stream",
     "text": [
      "file exists in cache\n",
      "successfully loaded model\n"
     ]
    }
   ],
   "source": [
    "#attempt to read in rf from cache, else run ite\n",
    "try:\n",
    "    rf = read_obj_from_cache('rf.pkl', 'rf_v1')\n",
    "    print \"successfully loaded model\"\n",
    "except:\n",
    "    #run the model\n",
    "    print \"couldn't find a cached version, re-fitting random forest\"\n",
    "    rf = RandomForestClassifier(n_estimators=500, class_weight='auto')\n",
    "    rf.fit(train[hazards_domain], train.is_churned)\n",
    "    "
   ]
  },
  {
   "cell_type": "code",
   "execution_count": 34,
   "metadata": {
    "ExecuteTime": {
     "end_time": "2016-05-24T16:02:13.363774",
     "start_time": "2016-05-24T16:02:12.965668"
    },
    "_datascience": {},
    "code_folding": [
     0
    ],
    "collapsed": false
   },
   "outputs": [],
   "source": [
    "#Instantiate Feature Perturbator\n",
    "md  = ModelInspector(rf, train, hazards_domain)"
   ]
  },
  {
   "cell_type": "code",
   "execution_count": 35,
   "metadata": {
    "ExecuteTime": {
     "end_time": "2016-05-24T16:02:13.385939",
     "start_time": "2016-05-24T16:02:13.365080"
    },
    "_datascience": {},
    "code_folding": [
     0
    ],
    "collapsed": false
   },
   "outputs": [
    {
     "name": "stdout",
     "output_type": "stream",
     "text": [
      "file exists in cache\n",
      "Precomputed values successfully loaded\n"
     ]
    }
   ],
   "source": [
    "#attempt to load precomputed values otherwise run\n",
    "try:\n",
    "    precomputed_perturbations  = load_perturbations()\n",
    "    md.precomputed_perturbations = precomputed_perturbations\n",
    "    print \"Precomputed values successfully loaded\"\n",
    "except:\n",
    "    #compute the perturbation of the selected feature\n",
    "    print \"could not successfully load precomputed values, perturbing the selected feature\"\n",
    "    md.perturb_data(feature,bins=\"default\")\n",
    "\n",
    "model_data = md.perturb_data(feature,bins=\"default\")"
   ]
  },
  {
   "cell_type": "markdown",
   "metadata": {
    "_datascience": {}
   },
   "source": [
    "# Internal Note\n",
    "Make sure that you have both modeling_data.csv and rk.pkl in your branch before attempting to run this. If you do not, you can merge the latest files from jake's branch. the git command is `git checkout jake notebooks/[FILE-NAME]`. This will create a copy of this file onto your branch."
   ]
  },
  {
   "cell_type": "markdown",
   "metadata": {
    "_datascience": {
     "keep": true,
     "summary": true
    }
   },
   "source": [
    "Utilizing the [random forest churn model](https://app.datascience.com/insights/random-forest-churn-model-accuracy-g4e6h3), this post performs feature perturbation on the average meal rating to examine the isolated impact overall meal rating has on the likelihood of churn.\n",
    "\n",
    "### Key Findings\n",
    "* The rating of a meal has a mixed impact on the probability of churn due to interaction with meal difficulty.\n",
    "* Low difficulty meals decrease the risk of churn, whereas high difficulty increases the risk of churn, even if meals have high average ratings.\n",
    "* When difficulty level is held low, average meal rating has a negative impact on churn, and higher rating lowers risk of churn."
   ]
  },
  {
   "cell_type": "markdown",
   "metadata": {
    "_datascience": {
     "keep": true
    }
   },
   "source": [
    "### Feature Definition\n",
    "**Average Meal Rating** is defined as the mean rating of a meal across the customer base. In other words, instead of measuring how an individual rated a meal, every meal is assigned an average rating across the entire customer base."
   ]
  },
  {
   "cell_type": "markdown",
   "metadata": {
    "_datascience": {}
   },
   "source": [
    "# Original\n",
    "### Feature Definition\n",
    "**Average Meal Rating** is defined as the mean meal ratings across customer base. In other words, for each customer every meal is assigned an average rating across the entire customer base as opposed to rating by that individual."
   ]
  },
  {
   "cell_type": "markdown",
   "metadata": {
    "_datascience": {
     "keep": true
    }
   },
   "source": [
    "### Limitations\n",
    "This analysis only considers customers who fully complete the sign-up process (as denoted in the database by user.completed_signup_at is not null). Because skips and pauses began being tracked on February 4th, 2015, we filtered the data to customers after February 4th, 2015. \n",
    "\n",
    "When examining the relative importance of features to the model, keep in mind that importance represents the information gain of a feature to the model and not necessarily the importance to the business.\n",
    "\n",
    "A churned customer is defined as a paused user who's account has lapsed more than 40 days. For more information on how we defined churn versus a pause please see [this post](https://app.datascience.com/insights/definition-pause-vs-churn-f5g4d7).\n",
    "\n",
    "Finally, feature perturbation holds all other variables equal to examine the isolated impact of a single feature on the churn model and does not consider the inter-dependence of multiple features changing for a user at once. To understand the effect of a particular set of features, further work needs to be done to ensure that the multiple variables are treated correctly and results are trustworthy. In other words, results are not additive."
   ]
  },
  {
   "cell_type": "markdown",
   "metadata": {
    "_datascience": {
     "keep": true
    }
   },
   "source": [
    "### Feature Importance\n",
    "The chart below displays the relative importance of features (the information gained by a particular feature) to the churn model. The yellow bar highlights the feature we're exploring while the blue bars show the remaining features. Average Meal Rating has the fourth highest level of importance to the churn model and is an early decision split for the model.\n",
    "\n",
    "The value assigned to the feature importance of a given feature represents the information gain of a feature to the model. To explore the direction and magnitude of a specific feature's effect on churn, we turn to feature perturbation."
   ]
  },
  {
   "cell_type": "markdown",
   "metadata": {
    "_datascience": {}
   },
   "source": [
    "#### internal note\n",
    "for the cell below, all_features is a boolean that gives you an importance chart that includes all of the features or a truncated chart amongst all features higher than the mean importance"
   ]
  },
  {
   "cell_type": "code",
   "execution_count": 36,
   "metadata": {
    "ExecuteTime": {
     "end_time": "2016-05-24T16:02:13.915771",
     "start_time": "2016-05-24T16:02:13.388145"
    },
    "_datascience": {
     "keep": true
    },
    "code_folding": [
     0
    ],
    "collapsed": false,
    "scrolled": false
   },
   "outputs": [
    {
     "name": "stderr",
     "output_type": "stream",
     "text": [
      "/usr/local/lib/python2.7/dist-packages/ipykernel/__main__.py:13: FutureWarning: order is deprecated, use sort_values(...)\n",
      "/usr/local/lib/python2.7/dist-packages/ipykernel/__main__.py:17: FutureWarning: order is deprecated, use sort_values(...)\n"
     ]
    },
    {
     "data": {
      "image/png": "[encoded data removed]",
      "text/plain": [
       "<matplotlib.figure.Figure at 0x7f2ad8240810>"
      ]
     },
     "metadata": {},
     "output_type": "display_data"
    }
   ],
   "source": [
    "#plot feature importance\n",
    "all_features = False\n",
    "\n",
    "rf_features = pd.Series(rf.feature_importances_,index=[pretty_feature_names[h] for h in hazards_domain])\n",
    "\n",
    "if all_features:\n",
    "    #plot all values\n",
    "    plt.rcParams['figure.figsize'] = (16,16)\n",
    "    imp = rf_features.order()\n",
    "else:\n",
    "    #plot only values that are above average\n",
    "    plt.rcParams['figure.figsize'] = (16, 7)\n",
    "    imp = rf_features[rf_features>rf_features.mean()].order()\n",
    "    \n",
    "colors = highlight_bar(imp,feature)\n",
    "#highlight the important feature\n",
    "ax = imp.order().plot(kind='barh',color=colors)\n",
    "format_chart(ax,horizontal=True,loc=False)\n",
    "ax.set_title('Churn Model Feature Importance')\n",
    "ax.set_xlabel('Feature Importance')\n",
    "plt.rcParams['figure.figsize'] = (16,7)"
   ]
  },
  {
   "cell_type": "code",
   "execution_count": 37,
   "metadata": {
    "ExecuteTime": {
     "end_time": "2016-05-24T16:02:13.928702",
     "start_time": "2016-05-24T16:02:13.919329"
    },
    "_datascience": {},
    "code_folding": [
     0
    ],
    "collapsed": false
   },
   "outputs": [],
   "source": [
    "#why we can't use rothko\n",
    "test = {'0.000000':0.458599,\n",
    "'0.540541':0.391597,\n",
    "'0.810811':0.410157,\n",
    "'1.071429':0.416984,\n",
    "'1.363636':0.438069,\n",
    "'1.666667':0.442299,\n",
    "'1.992000':0.448384,\n",
    "'2.307692':0.460602,\n",
    "'2.727273':0.471646,\n",
    "'3.112500':0.479964,\n",
    "'3.750000':0.491855,\n",
    "'4.285714':0.599843,\n",
    "'5.000000':0.632696,\n",
    "'6.666667':0.675968,\n",
    "'8.333333':0.697830,\n",
    "'10.000000':0.719832,\n",
    "'15.000000':0.734984,\n",
    "'20.000000':0.739480,\n",
    "'49.750000':0.734176}\n",
    "\n",
    "t = pd.Series(test)\n",
    "# rk.plot(t,kind='line')"
   ]
  },
  {
   "cell_type": "markdown",
   "metadata": {
    "_datascience": {
     "keep": true
    }
   },
   "source": [
    "### Average Meal Rating Has Mixed Impact on Risk of Churn\n",
    "The following chart shows the results of feature perturbation across our target feature. Feature perturbation holds all other features constant while shifting the value of a single feature. This allows us to estimate the isolated impact of an individual feature on the risk of churn. In the chart below, the higher the change in churn risk, the more likely elements of that feature increase a customer's risk of churn.\n",
    "\n",
    "The average meal rating a customer experienced ranges from 2 (all meals in a customer's lifetime had low average ratings) to 5 (all meals in a customer's lifetime had high average ratings). The shape of the feature perturbation curve shows a very slow decrease in predicted churn risk as the average rating increases until the moderate point (average rating of 4.0). From moderate to the above moderate point (average rating equals to 4.3) in average meal rating, the curve started a fast decrease in predicted churn risk. The increasing churn risk we see at higher meal ratings at the end of this chart might result from interaction between average meal rating and another feature which is not being captured in this graph."
   ]
  },
  {
   "cell_type": "markdown",
   "metadata": {
    "_datascience": {}
   },
   "source": [
    "# Original\n",
    "### Average Meal Rating Has Mixed Impact on Risk of Churn\n",
    "The following chart shows the results of feature perturbation across our target feature. Feature perturbation holds all other feature constant while shifting the value of a single feature. This allows us to estimate the isolated impact of an individual feature on the risk of churn. In the chart below, the higher the change in churn risk, the more likely elements of that feature increase a customer's risk of churn.\n",
    "\n",
    "The average meal rating a customer experienced ranges from 2 (all low ratings in a customer's lifetime) to 5 (all high ratings in a customer's lifetime). The shape of the feature perturbation curve shows a very slow decrease in predicted churn risk as the average rating increases until the moderate point (average rating equals to 4.0). From moderate to the above moderate point (average rating equals to 4.3) in average meal rating, the curve started a fast decrease in predicted churn risk."
   ]
  },
  {
   "cell_type": "code",
   "execution_count": 38,
   "metadata": {
    "ExecuteTime": {
     "end_time": "2016-05-24T16:02:14.084702",
     "start_time": "2016-05-24T16:02:13.930161"
    },
    "_datascience": {
     "keep": true,
     "summary": true
    },
    "code_folding": [
     0
    ],
    "collapsed": false,
    "scrolled": false
   },
   "outputs": [
    {
     "data": {
      "image/png": "[encoded data removed]",
      "text/plain": [
       "<matplotlib.figure.Figure at 0x7f2ad83aa5d0>"
      ]
     },
     "metadata": {},
     "output_type": "display_data"
    }
   ],
   "source": [
    "#plot feature perturbation\n",
    "\n",
    "# ax = md.plot_perturbed_data(feature,bins='default')\n",
    "# as divisior increases, bin size decreases, range controls how many of the bins are returned.\n",
    "bins = 'default'\n",
    "dat = md.perturb_data(feature,bins=bins)\n",
    "\n",
    "#cardinality to determine plot type\n",
    "p_type = plot_type(dat)\n",
    "\n",
    "# if currency_transform:\n",
    "#     dat.index = dat.index/100\n",
    "title = \"Effect of %s on Change in Likelihood to Churn\" %(pretty_feature_names[feature])\n",
    "xlabel = \"Change of %s\" %(pretty_feature_names[feature] if not(currency_transform) else pretty_feature_names[feature]+' ($)')\n",
    "ylabel = \"Change in Churn Risk\"\n",
    "\n",
    "ax = dat.plot(kind = p_type, title = title)\n",
    "ax.set_xlabel(xlabel)\n",
    "ax.set_ylabel(ylabel)\n",
    "format_chart(ax,loc=False)\n",
    "plt.show()"
   ]
  },
  {
   "cell_type": "code",
   "execution_count": 39,
   "metadata": {
    "ExecuteTime": {
     "end_time": "2016-05-24T16:02:18.965456",
     "start_time": "2016-05-24T16:02:14.086235"
    },
    "_datascience": {},
    "collapsed": false
   },
   "outputs": [
    {
     "name": "stdout",
     "output_type": "stream",
     "text": [
      "transferring from s3\n"
     ]
    }
   ],
   "source": [
    "q = \"select recipe_rating from reviews where user_id in (select id from users where completed_signup_at is not null) and recipe_rating is not null\"\n",
    "df_meals = sql(q)"
   ]
  },
  {
   "cell_type": "code",
   "execution_count": 40,
   "metadata": {
    "ExecuteTime": {
     "end_time": "2016-05-24T16:02:18.976151",
     "start_time": "2016-05-24T16:02:18.966862"
    },
    "_datascience": {},
    "collapsed": false
   },
   "outputs": [
    {
     "name": "stdout",
     "output_type": "stream",
     "text": [
      "5    0.521946\n",
      "4    0.264582\n",
      "3    0.138883\n",
      "2    0.046546\n",
      "1    0.028043\n",
      "Name: recipe_rating, dtype: float64\n"
     ]
    }
   ],
   "source": [
    "print df_meals.recipe_rating.value_counts(normalize=True)"
   ]
  },
  {
   "cell_type": "code",
   "execution_count": 41,
   "metadata": {
    "ExecuteTime": {
     "end_time": "2016-05-24T16:02:19.226697",
     "start_time": "2016-05-24T16:02:18.977502"
    },
    "_datascience": {
     "keep": false
    },
    "collapsed": false
   },
   "outputs": [
    {
     "name": "stderr",
     "output_type": "stream",
     "text": [
      "/usr/local/lib/python2.7/dist-packages/pandas/tools/plotting.py:929: UserWarning: 'colors' is being deprecated. Please use 'color'instead of 'colors'\n",
      "  warnings.warn((\"'colors' is being deprecated. Please use 'color'\"\n"
     ]
    },
    {
     "data": {
      "image/png": "[encoded data removed]",
      "text/plain": [
       "<matplotlib.figure.Figure at 0x7f2ad83d3750>"
      ]
     },
     "metadata": {},
     "output_type": "display_data"
    }
   ],
   "source": [
    "#plot meal difficulty distribution\n",
    "ax = df_meals.recipe_rating.value_counts(normalize=True).plot(kind='bar',colors=palette[0],rot=0)\n",
    "format_chart(ax,loc=False)\n",
    "plt.gca().get_yaxis().set_major_formatter(mpl.ticker.FuncFormatter(lambda x,p: str(int(x * 100)) + '%'))\n",
    "ax.set_xticklabels(['High-5','Moderate-4','Average-3','Low-2','Very Low -1'])\n",
    "ax.set_title('More Than Half of Meals Ratings Are High',size='large')\n",
    "ax.set_xlabel('Meal Rating')\n",
    "ax.set_ylabel(\"Proportion of Meals\")\n",
    "plt.show()"
   ]
  },
  {
   "cell_type": "markdown",
   "metadata": {
    "_datascience": {
     "keep": true
    },
    "collapsed": true
   },
   "source": [
    "### Interaction Effect\n",
    "\n",
    "To detect the feature interacting with average meal rating, we look at the tree splits in the random forest model, and which features were selected in the splits near average meal rating. We find that *average difficulty level* potentially interacts with meal rating, causing the stange effect shown above.\n",
    "\n",
    "To test this, we used logistic regression to specify interactions explicitly and test for their signficance and magnitude. To tease out the effect of the interactor (average difficulty level) we fix it at high and low values, and regress risk of churn on the rest of the features. Then, we look at how the effect of average meal rating changes when we hold difficulty at high versus low value.\n",
    "\n",
    "Here we find the explanation for the mixed effect. When difficulty level is set low, average meal rating has a negative impact on churn; higher rating lowers risk of churn, as one's intuition would suggest. However, when difficulty is set at a high threshold, the effect on churn is the opposite. This is suggesting that the difficulty level is what is driving risk of churn when the meals are at high average ratings."
   ]
  },
  {
   "cell_type": "code",
   "execution_count": 42,
   "metadata": {
    "ExecuteTime": {
     "end_time": "2016-05-24T16:02:19.255462",
     "start_time": "2016-05-24T16:02:19.227836"
    },
    "_datascience": {},
    "collapsed": false
   },
   "outputs": [],
   "source": [
    "train3 = train_norm.copy()\n",
    "train3['const'] = 1\n",
    "train3['i2'] = train_norm['avg_difficulty_level']*train_norm['avg_meal_rating']\n",
    "train3['i3'] = train_norm['prep_avg']*train_norm['avg_meal_rating']"
   ]
  },
  {
   "cell_type": "code",
   "execution_count": 43,
   "metadata": {
    "ExecuteTime": {
     "end_time": "2016-05-24T16:02:19.262015",
     "start_time": "2016-05-24T16:02:19.256934"
    },
    "_datascience": {},
    "collapsed": true
   },
   "outputs": [],
   "source": [
    "logit_domain = copy(hazard_cols) # Removed biased and almost constant columns. Correlated cols ARE NOT excluded\n",
    "logit_domain.remove('number_of_baskets')\n",
    "logit_domain.remove('is_churned')\n",
    "logit_domain.remove('signInsPerWeek')\n",
    "logit_domain.remove('has_remaining_credit')\n",
    "logit_domain.remove('is_.net')\n",
    "logit_domain.remove('deliver_day_Friday')\n",
    "logit_domain.remove('voucher_Other')\n",
    "logit_domain.remove('average_r_rating')\n",
    "\n",
    "logit_domain.extend([  'i2', 'i3'])\n",
    "logit_domain.extend(['const'])"
   ]
  },
  {
   "cell_type": "code",
   "execution_count": 44,
   "metadata": {
    "ExecuteTime": {
     "end_time": "2016-05-24T16:02:23.117548",
     "start_time": "2016-05-24T16:02:19.266369"
    },
    "_datascience": {},
    "code_folding": [
     0
    ],
    "collapsed": false
   },
   "outputs": [
    {
     "name": "stdout",
     "output_type": "stream",
     "text": [
      "Optimization terminated successfully.\n",
      "         Current function value: 0.572425\n",
      "         Iterations 7\n",
      "Optimization terminated successfully.\n",
      "         Current function value: 0.572425\n",
      "         Iterations 7\n"
     ]
    }
   ],
   "source": [
    "# recenter to interpet the slope for interaction\n",
    "train3['avg_difficulty_level'] =train3['avg_difficulty_level'] - (train3['avg_difficulty_level'].mean() - train3['avg_difficulty_level'].std())\n",
    "train3['i2'] = train3['avg_difficulty_level']*train3['avg_meal_rating']\n",
    "logit = sm.Logit(train3.is_churned, train3[logit_domain]) \n",
    "result_lo = logit.fit()\n",
    "\n",
    "train3['avg_difficulty_level'] =train3['avg_difficulty_level'] - (train3['avg_difficulty_level'].mean() + train3['avg_difficulty_level'].std())\n",
    "train3['i2'] = train3['avg_difficulty_level']*train3['avg_meal_rating']\n",
    "logit = sm.Logit(train3.is_churned, train3[logit_domain]) \n",
    "result_hi = logit.fit()\n",
    "\n"
   ]
  },
  {
   "cell_type": "code",
   "execution_count": 45,
   "metadata": {
    "ExecuteTime": {
     "end_time": "2016-05-24T16:02:23.138671",
     "start_time": "2016-05-24T16:02:23.119953"
    },
    "_datascience": {},
    "collapsed": false
   },
   "outputs": [
    {
     "data": {
      "text/html": [
       "<div>\n",
       "<table border=\"1\" class=\"dataframe\">\n",
       "  <thead>\n",
       "    <tr style=\"text-align: right;\">\n",
       "      <th></th>\n",
       "      <th>lo</th>\n",
       "      <th>hi</th>\n",
       "    </tr>\n",
       "  </thead>\n",
       "  <tbody>\n",
       "    <tr>\n",
       "      <th>avg_meal_rating</th>\n",
       "      <td>-0.058914</td>\n",
       "      <td>0.212141</td>\n",
       "    </tr>\n",
       "    <tr>\n",
       "      <th>intercept</th>\n",
       "      <td>-0.231169</td>\n",
       "      <td>0.190615</td>\n",
       "    </tr>\n",
       "  </tbody>\n",
       "</table>\n",
       "</div>"
      ],
      "text/plain": [
       "                       lo        hi\n",
       "avg_meal_rating -0.058914  0.212141\n",
       "intercept       -0.231169  0.190615"
      ]
     },
     "execution_count": 45,
     "metadata": {},
     "output_type": "execute_result"
    }
   ],
   "source": [
    "coefs = pd.DataFrame(columns=['lo', 'hi'], index=['avg_meal_rating', 'intercept'])\n",
    "\n",
    "coefs['lo'].ix['avg_meal_rating'] = result_lo.params['avg_meal_rating']\n",
    "coefs['lo'].ix['intercept'] = result_lo.params['const']\n",
    "\n",
    "coefs['hi'].ix['avg_meal_rating'] = result_hi.params['avg_meal_rating']\n",
    "coefs['hi'].ix['intercept'] = result_hi.params['const']\n",
    "coefs"
   ]
  },
  {
   "cell_type": "code",
   "execution_count": 46,
   "metadata": {
    "ExecuteTime": {
     "end_time": "2016-05-24T16:02:23.148136",
     "start_time": "2016-05-24T16:02:23.142184"
    },
    "_datascience": {},
    "collapsed": false
   },
   "outputs": [
    {
     "name": "stdout",
     "output_type": "stream",
     "text": [
      "0.748201291078\n",
      "1.49594122041\n"
     ]
    }
   ],
   "source": [
    "print np.exp(coefs['lo'][0]+coefs['lo'][1]) #lo difficulty lowers risk\n",
    "print np.exp(coefs['hi'][0]+coefs['hi'][1]) #hi high difficulty increases risk"
   ]
  },
  {
   "cell_type": "code",
   "execution_count": 47,
   "metadata": {
    "ExecuteTime": {
     "end_time": "2016-05-24T16:02:23.154731",
     "start_time": "2016-05-24T16:02:23.150593"
    },
    "_datascience": {},
    "code_folding": [
     0
    ],
    "collapsed": false
   },
   "outputs": [],
   "source": [
    "# train4 = train_norm.copy()\n",
    "# train4['const'] = 1\n",
    "# train4['i2'] = train_norm['avg_difficulty_level']*train_norm['avg_meal_rating']\n",
    "# train4['i3'] = train_norm['prep_avg']*train_norm['avg_meal_rating']\n",
    "\n",
    "# train4['prep_avg'] =train4['prep_avg'] - (train4['prep_avg'].mean() - train4['prep_avg'].std())\n",
    "# train4['i3'] = train4['prep_avg']*train4['avg_meal_rating']\n",
    "# logit = sm.Logit(train3.is_churned, train3[logit_domain]) \n",
    "# result_lo_prep = logit.fit()\n",
    "\n",
    "# train4['prep_avg'] =train4['prep_avg'] - (train4['prep_avg'].mean() + train4['prep_avg'].std())\n",
    "# train4['i3'] = train4['prep_avg']*train4['prep_avg']\n",
    "# logit = sm.Logit(train4.is_churned, train4[logit_domain]) \n",
    "# result_hi_prep = logit.fit()\n",
    "\n",
    "# coefs_prep = pd.DataFrame(columns=['lo', 'hi'], index=['prep_avg', 'intercept'])\n",
    "\n",
    "# coefs_prep['lo'].ix['prep_avg'] = result_lo_prep.params['prep_avg']\n",
    "# coefs_prep['lo'].ix['intercept'] = result_lo_prep.params['const']\n",
    "\n",
    "# coefs_prep['hi'].ix['prep_avg'] = result_hi_prep.params['prep_avg']\n",
    "# coefs_prep['hi'].ix['intercept'] = result_hi_prep.params['const']\n",
    "# coefs_prep\n",
    "\n",
    "# print np.exp(coefs_prep['lo'][0]+coefs_prep['lo'][1]) #lo difficulty lowers risk\n",
    "# print np.exp(coefs_prep['hi'][0]+coefs_prep['hi'][1]) #hi high difficulty increases risk"
   ]
  },
  {
   "cell_type": "code",
   "execution_count": 48,
   "metadata": {
    "ExecuteTime": {
     "end_time": "2016-05-24T16:02:23.166631",
     "start_time": "2016-05-24T16:02:23.156078"
    },
    "_datascience": {},
    "collapsed": false
   },
   "outputs": [
    {
     "name": "stdout",
     "output_type": "stream",
     "text": [
      "        Low      High\n",
      "0 -0.251799  0.495941\n"
     ]
    }
   ],
   "source": [
    "effects = pd.DataFrame(columns=['Low', 'High'])\n",
    "effects['Low'] = pd.Series(np.exp(coefs['lo'][0]+coefs['lo'][1])-1)\n",
    "effects['High'] =  pd.Series(np.exp(coefs['hi'][0]+coefs['hi'][1])-1)\n",
    "print effects"
   ]
  },
  {
   "cell_type": "code",
   "execution_count": 49,
   "metadata": {
    "ExecuteTime": {
     "end_time": "2016-05-24T16:02:23.406521",
     "start_time": "2016-05-24T16:02:23.167956"
    },
    "_datascience": {
     "keep": true
    },
    "code_folding": [
     0
    ],
    "collapsed": false
   },
   "outputs": [
    {
     "data": {
      "image/png": "[encoded data removed]",
      "text/plain": [
       "<matplotlib.figure.Figure at 0x7f2ad83e9c90>"
      ]
     },
     "metadata": {},
     "output_type": "display_data"
    }
   ],
   "source": [
    "# bar plot\n",
    "ax = effects.plot(kind='bar',colors=palette[0],rot=0)\n",
    "\n",
    "format_chart(ax,loc=False)\n",
    "plt.gca().get_yaxis().set_major_formatter(mpl.ticker.FuncFormatter(lambda x,p: str(int(x * 100)) + '%'))\n",
    "ax.set_xticks([-0.1,0.1])\n",
    "ax.set_xticklabels(['Low', 'High'])\n",
    "ax.set_title('Effect of Average Meal Rating Varies by Level of Difficulty',size='large')\n",
    "ax.set_xlabel('Level of Difficulty')\n",
    "ax.set_ylabel(\"Effect of Average Meal Rating on Churn\")\n",
    "ax.legend_.remove()\n",
    "plt.show()"
   ]
  },
  {
   "cell_type": "markdown",
   "metadata": {
    "_datascience": {
     "keep": true
    }
   },
   "source": [
    "### Distribution of Average Meal Rating\n",
    "\n",
    "Roughly 95% of all customers experienced ratings somewhere between all moderate (average meal rating equals to 4.0) and all above moderate (average meal rating equals to 4.5). "
   ]
  },
  {
   "cell_type": "code",
   "execution_count": 50,
   "metadata": {
    "ExecuteTime": {
     "end_time": "2016-05-24T16:02:23.730840",
     "start_time": "2016-05-24T16:02:23.407630"
    },
    "_datascience": {
     "keep": true
    },
    "code_folding": [
     0
    ],
    "collapsed": false
   },
   "outputs": [
    {
     "data": {
      "image/png": "[encoded data removed]",
      "text/plain": [
       "<matplotlib.figure.Figure at 0x7f2ad7ea4410>"
      ]
     },
     "metadata": {},
     "output_type": "display_data"
    }
   ],
   "source": [
    "#plot histogram of feature in HC data\n",
    "\n",
    "#change this value manually if you'd like different binning\n",
    "if currency_transform:\n",
    "    feature_data = modeling_data[feature]/100\n",
    "else:\n",
    "    feature_data = modeling_data[feature]\n",
    "\n",
    "bins = bins_suggestion(feature_data)\n",
    "\n",
    "xlabel = pretty_feature_names[feature]+' ($)' if currency_transform else pretty_feature_names[feature]\n",
    "ylabel = \"Proportion of Customers\"\n",
    "title = \"Distribution of %s\"%(pretty_feature_names[feature])\n",
    "\n",
    "weights = np.ones_like(feature_data)/float(len(feature_data))\n",
    "ax = feature_data.hist(bins=bins,weights=weights)\n",
    "format_chart(ax,loc=False)\n",
    "ax.set_title(title,size='large')\n",
    "ax.set_xlabel(xlabel)\n",
    "ax.set_ylabel(ylabel)\n",
    "#optional chart parameters follow\n",
    "plt.gca().get_yaxis().set_major_formatter(mpl.ticker.FuncFormatter(lambda x,p: str(int(x * 100)) + '%'))\n",
    "plt.show()"
   ]
  },
  {
   "cell_type": "markdown",
   "metadata": {
    "_datascience": {
     "keep": true
    }
   },
   "source": [
    "Over time, average meal rating remained somewhat consitent throughout 2015. We see a decrease in average meal ratings around February 2015 when the rating system change took place. The light band around the series shows the 95% confidence interval. Note that the findings above do not change whether we include or exclude the time period after the system change from the model."
   ]
  },
  {
   "cell_type": "markdown",
   "metadata": {
    "_datascience": {
     "keep": false
    }
   },
   "source": [
    "# Optional Fourth Plot\n",
    "\n",
    "This chart exists to help explain any other fundamentally important phenomenon in the data or the perturbations. Or this space could be used to preempt a question a customer may ask based on the information above."
   ]
  },
  {
   "cell_type": "code",
   "execution_count": 51,
   "metadata": {
    "ExecuteTime": {
     "end_time": "2016-05-24T16:02:24.064227",
     "start_time": "2016-05-24T16:02:23.732967"
    },
    "_datascience": {},
    "collapsed": true
   },
   "outputs": [],
   "source": [
    "# cell: connection\n",
    "conn = psycopg2.connect(\n",
    "   database='homechef',\n",
    "   port=os.environ['REDSHIFT_PORT'],\n",
    "   password=os.environ['REDSHIFT_PASS'],\n",
    "   user=os.environ['REDSHIFT_USER'],\n",
    "   host=os.environ['REDSHIFT_HOST']\n",
    "  ) "
   ]
  },
  {
   "cell_type": "code",
   "execution_count": 52,
   "metadata": {
    "ExecuteTime": {
     "end_time": "2016-05-24T16:02:24.070776",
     "start_time": "2016-05-24T16:02:24.066261"
    },
    "_datascience": {},
    "collapsed": true
   },
   "outputs": [],
   "source": [
    "#cell: function to use @cache capability\n",
    "@cache()\n",
    "def query(query,conn) :\n",
    "    \"\"\"\n",
    "    Perform a redshift query and return the results \n",
    "    \"\"\"\n",
    "    return pd.read_sql(query,conn)"
   ]
  },
  {
   "cell_type": "code",
   "execution_count": 53,
   "metadata": {
    "ExecuteTime": {
     "end_time": "2016-05-24T16:02:25.736762",
     "start_time": "2016-05-24T16:02:24.072442"
    },
    "_datascience": {},
    "collapsed": false
   },
   "outputs": [
    {
     "name": "stdout",
     "output_type": "stream",
     "text": [
      "401\n"
     ]
    },
    {
     "data": {
      "text/html": [
       "<div>\n",
       "<table border=\"1\" class=\"dataframe\">\n",
       "  <thead>\n",
       "    <tr style=\"text-align: right;\">\n",
       "      <th></th>\n",
       "      <th>date_day</th>\n",
       "      <th>meal_rating</th>\n",
       "      <th>t</th>\n",
       "    </tr>\n",
       "  </thead>\n",
       "  <tbody>\n",
       "    <tr>\n",
       "      <th>0</th>\n",
       "      <td>2015-04-08</td>\n",
       "      <td>4.34</td>\n",
       "      <td>148</td>\n",
       "    </tr>\n",
       "    <tr>\n",
       "      <th>1</th>\n",
       "      <td>2015-04-09</td>\n",
       "      <td>4.25</td>\n",
       "      <td>215</td>\n",
       "    </tr>\n",
       "    <tr>\n",
       "      <th>2</th>\n",
       "      <td>2015-04-10</td>\n",
       "      <td>4.42</td>\n",
       "      <td>493</td>\n",
       "    </tr>\n",
       "    <tr>\n",
       "      <th>3</th>\n",
       "      <td>2015-04-11</td>\n",
       "      <td>4.21</td>\n",
       "      <td>150</td>\n",
       "    </tr>\n",
       "    <tr>\n",
       "      <th>4</th>\n",
       "      <td>2015-04-12</td>\n",
       "      <td>4.12</td>\n",
       "      <td>181</td>\n",
       "    </tr>\n",
       "  </tbody>\n",
       "</table>\n",
       "</div>"
      ],
      "text/plain": [
       "    date_day  meal_rating    t\n",
       "0 2015-04-08         4.34  148\n",
       "1 2015-04-09         4.25  215\n",
       "2 2015-04-10         4.42  493\n",
       "3 2015-04-11         4.21  150\n",
       "4 2015-04-12         4.12  181"
      ]
     },
     "execution_count": 53,
     "metadata": {},
     "output_type": "execute_result"
    }
   ],
   "source": [
    "#cell: \n",
    "query1 = \"\"\"\n",
    "SELECT DATE_TRUNC('day',created_at) AS date_day,\n",
    "       AVG(recipe_rating) AS meal_rating,\n",
    "       COUNT(*) as t\n",
    "FROM reviews\n",
    "WHERE DATE_TRUNC('day',created_at) > '2015-02-04'\n",
    "AND DATE_TRUNC('day',created_at) <= '2016-05-12'\n",
    "AND user_id IN (SELECT id FROM users WHERE completed_signup_at IS NOT NULL)\n",
    "GROUP BY 1\n",
    "ORDER BY date_day\n",
    "\"\"\"\n",
    "mean_ratings_by_date=pd.read_sql(query1,conn)\n",
    "print len(mean_ratings_by_date)\n",
    "mean_ratings_by_date.head()"
   ]
  },
  {
   "cell_type": "code",
   "execution_count": 54,
   "metadata": {
    "ExecuteTime": {
     "end_time": "2016-05-24T16:02:25.747385",
     "start_time": "2016-05-24T16:02:25.738060"
    },
    "_datascience": {},
    "collapsed": false
   },
   "outputs": [
    {
     "data": {
      "text/html": [
       "<div>\n",
       "<table border=\"1\" class=\"dataframe\">\n",
       "  <thead>\n",
       "    <tr style=\"text-align: right;\">\n",
       "      <th></th>\n",
       "      <th>meal_rating</th>\n",
       "      <th>t</th>\n",
       "    </tr>\n",
       "    <tr>\n",
       "      <th>date_day</th>\n",
       "      <th></th>\n",
       "      <th></th>\n",
       "    </tr>\n",
       "  </thead>\n",
       "  <tbody>\n",
       "    <tr>\n",
       "      <th>2015-04-08</th>\n",
       "      <td>4.34</td>\n",
       "      <td>148</td>\n",
       "    </tr>\n",
       "    <tr>\n",
       "      <th>2015-04-09</th>\n",
       "      <td>4.25</td>\n",
       "      <td>215</td>\n",
       "    </tr>\n",
       "  </tbody>\n",
       "</table>\n",
       "</div>"
      ],
      "text/plain": [
       "            meal_rating    t\n",
       "date_day                    \n",
       "2015-04-08         4.34  148\n",
       "2015-04-09         4.25  215"
      ]
     },
     "execution_count": 54,
     "metadata": {},
     "output_type": "execute_result"
    }
   ],
   "source": [
    "# set index\n",
    "mean_ratings_by_date = mean_ratings_by_date.set_index(['date_day'])\n",
    "mean_ratings_by_date.head(2)"
   ]
  },
  {
   "cell_type": "code",
   "execution_count": 55,
   "metadata": {
    "ExecuteTime": {
     "end_time": "2016-05-24T16:02:26.650542",
     "start_time": "2016-05-24T16:02:25.748608"
    },
    "_datascience": {},
    "code_folding": [],
    "collapsed": false
   },
   "outputs": [],
   "source": [
    "#cell: \n",
    "query2 = \"\"\"\n",
    "SELECT DATE_TRUNC('week',created_at) AS date_week,\n",
    "       AVG(recipe_rating) AS meal_rating,\n",
    "       STDDEV_SAMP(recipe_rating) AS std_dev,\n",
    "       COUNT(*) as t\n",
    "FROM reviews\n",
    "WHERE DATE_TRUNC('week',created_at) > '2015-02-04'\n",
    "AND DATE_TRUNC('week',created_at) < '2016-05-09'\n",
    "AND user_id IN (SELECT id FROM users WHERE completed_signup_at IS NOT NULL)\n",
    "GROUP BY 1\n",
    "ORDER BY date_week\n",
    "\"\"\"\n",
    "mean_ratings_by_week=pd.read_sql(query2,conn)"
   ]
  },
  {
   "cell_type": "code",
   "execution_count": 56,
   "metadata": {
    "ExecuteTime": {
     "end_time": "2016-05-24T16:02:26.663440",
     "start_time": "2016-05-24T16:02:26.652141"
    },
    "_datascience": {},
    "collapsed": false
   },
   "outputs": [
    {
     "data": {
      "text/html": [
       "<div>\n",
       "<table border=\"1\" class=\"dataframe\">\n",
       "  <thead>\n",
       "    <tr style=\"text-align: right;\">\n",
       "      <th></th>\n",
       "      <th>meal_rating</th>\n",
       "      <th>std_dev</th>\n",
       "      <th>t</th>\n",
       "    </tr>\n",
       "    <tr>\n",
       "      <th>date_week</th>\n",
       "      <th></th>\n",
       "      <th></th>\n",
       "      <th></th>\n",
       "    </tr>\n",
       "  </thead>\n",
       "  <tbody>\n",
       "    <tr>\n",
       "      <th>2015-04-06</th>\n",
       "      <td>4.31</td>\n",
       "      <td>0.978185</td>\n",
       "      <td>1187</td>\n",
       "    </tr>\n",
       "    <tr>\n",
       "      <th>2015-04-13</th>\n",
       "      <td>4.11</td>\n",
       "      <td>1.088476</td>\n",
       "      <td>1480</td>\n",
       "    </tr>\n",
       "  </tbody>\n",
       "</table>\n",
       "</div>"
      ],
      "text/plain": [
       "            meal_rating   std_dev     t\n",
       "date_week                              \n",
       "2015-04-06         4.31  0.978185  1187\n",
       "2015-04-13         4.11  1.088476  1480"
      ]
     },
     "execution_count": 56,
     "metadata": {},
     "output_type": "execute_result"
    }
   ],
   "source": [
    "# set index \n",
    "mean_ratings_by_week = mean_ratings_by_week.set_index(['date_week'])\n",
    "mean_ratings_by_week.head(2)"
   ]
  },
  {
   "cell_type": "code",
   "execution_count": 60,
   "metadata": {
    "ExecuteTime": {
     "end_time": "2016-05-24T16:06:29.487490",
     "start_time": "2016-05-24T16:06:29.234011"
    },
    "_datascience": {
     "keep": true
    },
    "collapsed": false
   },
   "outputs": [
    {
     "data": {
      "image/png": "[encoded data removed]",
      "text/plain": [
       "<matplotlib.figure.Figure at 0x7f2ad7eb72d0>"
      ]
     },
     "metadata": {},
     "output_type": "display_data"
    }
   ],
   "source": [
    "plt.rcParams['figure.figsize'] = [15,8]\n",
    "plt.rcParams['axes.facecolor'] = 'white'\n",
    "plt.rcParams['xtick.direction'] = 'out'\n",
    "plt.rcParams['ytick.direction'] = 'out'\n",
    "\n",
    "\n",
    "ax1 = mean_ratings_by_week['meal_rating'].plot()\n",
    "ax1.fill_between( mean_ratings_by_week.index\n",
    "                 ,mean_ratings_by_week['meal_rating']+ 1.96*mean_ratings_by_week['std_dev']/np.sqrt(mean_ratings_by_week['t'])\n",
    "                 ,mean_ratings_by_week['meal_rating']- 1.96*mean_ratings_by_week['std_dev']/np.sqrt(mean_ratings_by_week['t'])\n",
    "                 , facecolor = colors[0]\n",
    "                 , alpha = 0.1)\n",
    "blues = ['#4292c6','#2171b5','#08519c','#08306b', 'black', '#6baed6']\n",
    "\n",
    "ax1.grid(b = False)\n",
    "\n",
    "box1 = ax1.get_position()\n",
    "ax1.set_position([box1.x0, box1.y0, box1.width, box1.height])\n",
    "ax1.set_ylabel('Average Meal Rating')\n",
    "ax1.set_xlabel('')\n",
    "ax1.set_ylim([3.5, 5])\n",
    "\n",
    "\n",
    "plt.title('Average Meal Rating Through Time')\n",
    "format_chart(plt.gca(),loc=False)\n",
    "plt.show()\n"
   ]
  },
  {
   "cell_type": "code",
   "execution_count": 58,
   "metadata": {
    "ExecuteTime": {
     "end_time": "2016-05-24T16:02:28.051542",
     "start_time": "2016-05-24T16:02:27.047356"
    },
    "_datascience": {
     "keep": false
    },
    "collapsed": false
   },
   "outputs": [
    {
     "data": {
      "text/html": [
       "\n",
       "        <iframe\n",
       "            width=\"100%\"\n",
       "            height=\"500\"\n",
       "            src=\"https://viz.datascience.com/id/8ca5991972f273914023ba38d3102e71?params=%7B%27kind%27%3A+u%27line%27%2C+%27id%27%3A+u%278ca5991972f273914023ba38d3102e71%27%2C+%27title%27%3A+u%27%27%7D\"\n",
       "            frameborder=\"0\"\n",
       "            allowfullscreen\n",
       "        ></iframe>\n",
       "        "
      ],
      "text/plain": [
       "<IPython.lib.display.IFrame at 0x7f2ad841a710>"
      ]
     },
     "execution_count": 58,
     "metadata": {},
     "output_type": "execute_result"
    }
   ],
   "source": [
    "# rk plot\n",
    "rk.plot(mean_ratings_by_week.meal_rating,\n",
    "        kind='line',\n",
    "        xlabel='Weekly',\n",
    "        ylabel='Average Meal Ratings', ylim=[3.5, 5])"
   ]
  },
  {
   "cell_type": "markdown",
   "metadata": {
    "_datascience": {
     "keep": true
    }
   },
   "source": [
    "### Impact and Further Opportunity\n",
    "\n",
    "When difficulty level is held low, average meal rating has a negative impact on churn, and higher rating lowers risk of churn. However, the average rating of meal shows some level of interaction with difficulty of the meal. While most of Home Chef's meal are easy to moderate, it is important to recognize the difficulty level as one of the highest-impact factors on churn. Bearing this in mind, higher-rated meals with lower difficulties are likely to reduce churn. Any meals that meet both of these criteria should be examined closely, and future analyses can explore the potential gains in marketing these meals to customers."
   ]
  },
  {
   "cell_type": "code",
   "execution_count": null,
   "metadata": {
    "_datascience": {},
    "collapsed": true
   },
   "outputs": [],
   "source": []
  }
 ],
 "metadata": {
  "_datascience": {
   "post_id": 697
  },
  "kernelspec": {
   "display_name": "Python 2",
   "language": "python",
   "name": "python2"
  },
  "language_info": {
   "codemirror_mode": {
    "name": "ipython",
    "version": 2
   },
   "file_extension": ".py",
   "mimetype": "text/x-python",
   "name": "python",
   "nbconvert_exporter": "python",
   "pygments_lexer": "ipython2",
   "version": "2.7.6"
  }
 },
 "nbformat": 4,
 "nbformat_minor": 0
}
