{
 "cells": [
  {
   "cell_type": "code",
   "execution_count": 1,
   "metadata": {
    "collapsed": false,
    "deletable": true,
    "editable": true
   },
   "outputs": [
    {
     "data": {
      "text/plain": [
       "0"
      ]
     },
     "execution_count": 1,
     "metadata": {},
     "output_type": "execute_result"
    }
   ],
   "source": [
    "import os\n",
    "\n",
    "file = open(\"report.md\",\"w\")\n",
    "file.write(\"![Platform Visual](https://raw.githubusercontent.com/timrizzi81/v2_demos/master/Platform%20Visual.png)\")\n",
    "file.close()\n",
    "\n",
    "os.system('git config --global user.email \"' + os.environ['GIT_EMAIL'] + '\"')\n",
    "os.system('git config --global user.name \"'+ os.environ['GIT_USERNAME'] +'\"')\n",
    "\n",
    "os.system(\"git add .\")\n",
    "os.system(\"git commit -m 'Automated git commit from run'\")\n",
    "os.system(\"git pull origin master\")\n",
    "os.system(\"git push origin master\")"
   ]
  },
  {
   "cell_type": "code",
   "execution_count": null,
   "metadata": {
    "collapsed": true,
    "deletable": true,
    "editable": true
   },
   "outputs": [],
   "source": []
  }
 ],
 "metadata": {
  "kernelspec": {
   "display_name": "Python 2",
   "language": "python",
   "name": "python2"
  },
  "language_info": {
   "codemirror_mode": {
    "name": "ipython",
    "version": 2
   },
   "file_extension": ".py",
   "mimetype": "text/x-python",
   "name": "python",
   "nbconvert_exporter": "python",
   "pygments_lexer": "ipython2",
   "version": "2.7.12"
  }
 },
 "nbformat": 4,
 "nbformat_minor": 2
}
